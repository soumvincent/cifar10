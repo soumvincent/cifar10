{
  "nbformat": 4,
  "nbformat_minor": 0,
  "metadata": {
    "colab": {
      "name": "resnet_51(90.04).ipynb",
      "provenance": [],
      "collapsed_sections": []
    },
    "kernelspec": {
      "name": "python3",
      "display_name": "Python 3"
    },
    "language_info": {
      "name": "python"
    },
    "accelerator": "GPU",
    "widgets": {
      "application/vnd.jupyter.widget-state+json": {
        "de9c36fe5d144c5d9c73e588ea7c72bf": {
          "model_module": "@jupyter-widgets/controls",
          "model_name": "HBoxModel",
          "state": {
            "_view_name": "HBoxView",
            "_dom_classes": [],
            "_model_name": "HBoxModel",
            "_view_module": "@jupyter-widgets/controls",
            "_model_module_version": "1.5.0",
            "_view_count": null,
            "_view_module_version": "1.5.0",
            "box_style": "",
            "layout": "IPY_MODEL_f75c283cbf73441788ed6bf9db03493a",
            "_model_module": "@jupyter-widgets/controls",
            "children": [
              "IPY_MODEL_2e60f311a6c64d5e98aeebc4452a6b9e",
              "IPY_MODEL_c832a706fe4a47babde68d49ef531f20"
            ]
          }
        },
        "f75c283cbf73441788ed6bf9db03493a": {
          "model_module": "@jupyter-widgets/base",
          "model_name": "LayoutModel",
          "state": {
            "_view_name": "LayoutView",
            "grid_template_rows": null,
            "right": null,
            "justify_content": null,
            "_view_module": "@jupyter-widgets/base",
            "overflow": null,
            "_model_module_version": "1.2.0",
            "_view_count": null,
            "flex_flow": null,
            "width": null,
            "min_width": null,
            "border": null,
            "align_items": null,
            "bottom": null,
            "_model_module": "@jupyter-widgets/base",
            "top": null,
            "grid_column": null,
            "overflow_y": null,
            "overflow_x": null,
            "grid_auto_flow": null,
            "grid_area": null,
            "grid_template_columns": null,
            "flex": null,
            "_model_name": "LayoutModel",
            "justify_items": null,
            "grid_row": null,
            "max_height": null,
            "align_content": null,
            "visibility": null,
            "align_self": null,
            "height": null,
            "min_height": null,
            "padding": null,
            "grid_auto_rows": null,
            "grid_gap": null,
            "max_width": null,
            "order": null,
            "_view_module_version": "1.2.0",
            "grid_template_areas": null,
            "object_position": null,
            "object_fit": null,
            "grid_auto_columns": null,
            "margin": null,
            "display": null,
            "left": null
          }
        },
        "2e60f311a6c64d5e98aeebc4452a6b9e": {
          "model_module": "@jupyter-widgets/controls",
          "model_name": "FloatProgressModel",
          "state": {
            "_view_name": "ProgressView",
            "style": "IPY_MODEL_bf059e9dfa6c44c287cdd18732153830",
            "_dom_classes": [],
            "description": "",
            "_model_name": "FloatProgressModel",
            "bar_style": "success",
            "max": 170498071,
            "_view_module": "@jupyter-widgets/controls",
            "_model_module_version": "1.5.0",
            "value": 170498071,
            "_view_count": null,
            "_view_module_version": "1.5.0",
            "orientation": "horizontal",
            "min": 0,
            "description_tooltip": null,
            "_model_module": "@jupyter-widgets/controls",
            "layout": "IPY_MODEL_1db222bb6356414a8fb82016575fbac8"
          }
        },
        "c832a706fe4a47babde68d49ef531f20": {
          "model_module": "@jupyter-widgets/controls",
          "model_name": "HTMLModel",
          "state": {
            "_view_name": "HTMLView",
            "style": "IPY_MODEL_3d97267189f54624ae0743036661adb6",
            "_dom_classes": [],
            "description": "",
            "_model_name": "HTMLModel",
            "placeholder": "​",
            "_view_module": "@jupyter-widgets/controls",
            "_model_module_version": "1.5.0",
            "value": " 170499072/? [2:23:50&lt;00:00, 19755.00it/s]",
            "_view_count": null,
            "_view_module_version": "1.5.0",
            "description_tooltip": null,
            "_model_module": "@jupyter-widgets/controls",
            "layout": "IPY_MODEL_be24fc885d0b487eb351a5192aeef86c"
          }
        },
        "bf059e9dfa6c44c287cdd18732153830": {
          "model_module": "@jupyter-widgets/controls",
          "model_name": "ProgressStyleModel",
          "state": {
            "_view_name": "StyleView",
            "_model_name": "ProgressStyleModel",
            "description_width": "initial",
            "_view_module": "@jupyter-widgets/base",
            "_model_module_version": "1.5.0",
            "_view_count": null,
            "_view_module_version": "1.2.0",
            "bar_color": null,
            "_model_module": "@jupyter-widgets/controls"
          }
        },
        "1db222bb6356414a8fb82016575fbac8": {
          "model_module": "@jupyter-widgets/base",
          "model_name": "LayoutModel",
          "state": {
            "_view_name": "LayoutView",
            "grid_template_rows": null,
            "right": null,
            "justify_content": null,
            "_view_module": "@jupyter-widgets/base",
            "overflow": null,
            "_model_module_version": "1.2.0",
            "_view_count": null,
            "flex_flow": null,
            "width": null,
            "min_width": null,
            "border": null,
            "align_items": null,
            "bottom": null,
            "_model_module": "@jupyter-widgets/base",
            "top": null,
            "grid_column": null,
            "overflow_y": null,
            "overflow_x": null,
            "grid_auto_flow": null,
            "grid_area": null,
            "grid_template_columns": null,
            "flex": null,
            "_model_name": "LayoutModel",
            "justify_items": null,
            "grid_row": null,
            "max_height": null,
            "align_content": null,
            "visibility": null,
            "align_self": null,
            "height": null,
            "min_height": null,
            "padding": null,
            "grid_auto_rows": null,
            "grid_gap": null,
            "max_width": null,
            "order": null,
            "_view_module_version": "1.2.0",
            "grid_template_areas": null,
            "object_position": null,
            "object_fit": null,
            "grid_auto_columns": null,
            "margin": null,
            "display": null,
            "left": null
          }
        },
        "3d97267189f54624ae0743036661adb6": {
          "model_module": "@jupyter-widgets/controls",
          "model_name": "DescriptionStyleModel",
          "state": {
            "_view_name": "StyleView",
            "_model_name": "DescriptionStyleModel",
            "description_width": "",
            "_view_module": "@jupyter-widgets/base",
            "_model_module_version": "1.5.0",
            "_view_count": null,
            "_view_module_version": "1.2.0",
            "_model_module": "@jupyter-widgets/controls"
          }
        },
        "be24fc885d0b487eb351a5192aeef86c": {
          "model_module": "@jupyter-widgets/base",
          "model_name": "LayoutModel",
          "state": {
            "_view_name": "LayoutView",
            "grid_template_rows": null,
            "right": null,
            "justify_content": null,
            "_view_module": "@jupyter-widgets/base",
            "overflow": null,
            "_model_module_version": "1.2.0",
            "_view_count": null,
            "flex_flow": null,
            "width": null,
            "min_width": null,
            "border": null,
            "align_items": null,
            "bottom": null,
            "_model_module": "@jupyter-widgets/base",
            "top": null,
            "grid_column": null,
            "overflow_y": null,
            "overflow_x": null,
            "grid_auto_flow": null,
            "grid_area": null,
            "grid_template_columns": null,
            "flex": null,
            "_model_name": "LayoutModel",
            "justify_items": null,
            "grid_row": null,
            "max_height": null,
            "align_content": null,
            "visibility": null,
            "align_self": null,
            "height": null,
            "min_height": null,
            "padding": null,
            "grid_auto_rows": null,
            "grid_gap": null,
            "max_width": null,
            "order": null,
            "_view_module_version": "1.2.0",
            "grid_template_areas": null,
            "object_position": null,
            "object_fit": null,
            "grid_auto_columns": null,
            "margin": null,
            "display": null,
            "left": null
          }
        }
      }
    }
  },
  "cells": [
    {
      "cell_type": "code",
      "metadata": {
        "id": "Rigs0jK5Etv0"
      },
      "source": [
        "%matplotlib inline\n",
        "from matplotlib import pyplot as plt\n",
        "import numpy as np\n",
        "import collections\n",
        "\n",
        "import torch\n",
        "import torch.nn as nn\n",
        "import torch.nn.functional as F\n",
        "import torch.optim as optim"
      ],
      "execution_count": 1,
      "outputs": []
    },
    {
      "cell_type": "code",
      "metadata": {
        "id": "vl0M_P0ME7Xx"
      },
      "source": [
        "class_names = ['airplane','automobile','bird','cat','deer',\n",
        "               'dog','frog','horse','ship','truck']"
      ],
      "execution_count": 2,
      "outputs": []
    },
    {
      "cell_type": "code",
      "metadata": {
        "colab": {
          "base_uri": "https://localhost:8080/",
          "height": 101,
          "referenced_widgets": [
            "de9c36fe5d144c5d9c73e588ea7c72bf",
            "f75c283cbf73441788ed6bf9db03493a",
            "2e60f311a6c64d5e98aeebc4452a6b9e",
            "c832a706fe4a47babde68d49ef531f20",
            "bf059e9dfa6c44c287cdd18732153830",
            "1db222bb6356414a8fb82016575fbac8",
            "3d97267189f54624ae0743036661adb6",
            "be24fc885d0b487eb351a5192aeef86c"
          ]
        },
        "id": "ldIumvC2FDK7",
        "outputId": "53e51120-1963-4515-82cf-7674a85469d1"
      },
      "source": [
        "from torchvision import datasets, transforms\n",
        "data_path = '/data-unversioned/p1ch6/'\n",
        "cifar10 = datasets.CIFAR10(\n",
        "    data_path, train=True, download=True,\n",
        "    transform=transforms.Compose([\n",
        "        transforms.RandomCrop(size=[32,32], padding=4),\n",
        "        transforms.RandomHorizontalFlip(),                       \n",
        "        transforms.ToTensor(),\n",
        "        transforms.Normalize((0.4915, 0.4823, 0.4468),\n",
        "                             (0.2470, 0.2435, 0.2616))\n",
        "    ]))"
      ],
      "execution_count": 3,
      "outputs": [
        {
          "output_type": "stream",
          "text": [
            "Downloading https://www.cs.toronto.edu/~kriz/cifar-10-python.tar.gz to /data-unversioned/p1ch6/cifar-10-python.tar.gz\n"
          ],
          "name": "stdout"
        },
        {
          "output_type": "display_data",
          "data": {
            "application/vnd.jupyter.widget-view+json": {
              "model_id": "de9c36fe5d144c5d9c73e588ea7c72bf",
              "version_minor": 0,
              "version_major": 2
            },
            "text/plain": [
              "HBox(children=(FloatProgress(value=0.0, max=170498071.0), HTML(value='')))"
            ]
          },
          "metadata": {
            "tags": []
          }
        },
        {
          "output_type": "stream",
          "text": [
            "\n",
            "Extracting /data-unversioned/p1ch6/cifar-10-python.tar.gz to /data-unversioned/p1ch6/\n"
          ],
          "name": "stdout"
        }
      ]
    },
    {
      "cell_type": "code",
      "metadata": {
        "colab": {
          "base_uri": "https://localhost:8080/"
        },
        "id": "6AAwQzSYFJsF",
        "outputId": "bf6a4244-a909-4987-d67f-0608b24aa19f"
      },
      "source": [
        "cifar10_val = datasets.CIFAR10(\n",
        "    data_path, train=False, download=True,\n",
        "    transform=transforms.Compose([\n",
        "        transforms.ToTensor(),\n",
        "        transforms.Normalize((0.4915, 0.4823, 0.4468),\n",
        "                             (0.2470, 0.2435, 0.2616))\n",
        "    ]))"
      ],
      "execution_count": 4,
      "outputs": [
        {
          "output_type": "stream",
          "text": [
            "Files already downloaded and verified\n"
          ],
          "name": "stdout"
        }
      ]
    },
    {
      "cell_type": "code",
      "metadata": {
        "id": "S_4n_0GMFNAG"
      },
      "source": [
        "class resblock(nn.Module):\n",
        "    def __init__(self, n):\n",
        "        super(resblock, self).__init__()\n",
        "        self.conv = nn.Conv2d(n, n, kernel_size=3,\n",
        "                              padding=1, bias=False)  \n",
        "        self.batch_norm = nn.BatchNorm2d(num_features=n)\n",
        "\n",
        "        torch.nn.init.kaiming_normal_(self.conv.weight,\n",
        "                                      nonlinearity='relu')  \n",
        "        torch.nn.init.constant_(self.batch_norm.weight, 0.5)\n",
        "        torch.nn.init.zeros_(self.batch_norm.bias)\n",
        "\n",
        "    def forward(self, x):\n",
        "        out = self.conv(x)\n",
        "        out = self.batch_norm(out)\n",
        "        out = torch.relu(out)\n",
        "        return out + x"
      ],
      "execution_count": 5,
      "outputs": []
    },
    {
      "cell_type": "code",
      "metadata": {
        "id": "otBQ6VLgFRcW"
      },
      "source": [
        "class deep(nn.Module):\n",
        "    def __init__(self, n1=32, n_blocks=18):\n",
        "        super().__init__()\n",
        "        self.n1 = n1\n",
        "        self.conv1 = nn.Conv2d(3, n1, kernel_size=3, padding=1)\n",
        "        self.conv2 = nn.Conv2d(n1, 2*n1, kernel_size=3, padding=1)\n",
        "        self.conv3 = nn.Conv2d(2*n1, 4*n1, kernel_size=3, padding=1)\n",
        "        self.resblocks = nn.Sequential(\n",
        "            *(n_blocks * [resblock(n=n1)]))\n",
        "        self.resblocks2 = nn.Sequential(\n",
        "            *(n_blocks * [resblock(n=n1*2)]))\n",
        "        self.resblocks3 = nn.Sequential(\n",
        "            *(n_blocks * [resblock(n=n1*4)]))\n",
        "        self.fc1 = nn.Linear(8 * 8 * n1*4, 32)\n",
        "        self.fc2 = nn.Linear(32, 16)\n",
        "        self.fc3 = nn.Linear(16, 10)\n",
        "        \n",
        "    def forward(self, x):\n",
        "        out = torch.relu(self.conv1(x))\n",
        "        out = self.resblocks(out)\n",
        "        out = F.max_pool2d(out, 2) \n",
        "        out = self.conv2(out)\n",
        "        out = self.resblocks2(out)\n",
        "        out = F.max_pool2d(out, 2) \n",
        "        out = self.conv3(out)\n",
        "        out = self.resblocks3(out)\n",
        "        out = out.view(-1, 8 * 8 * self.n1*4)\n",
        "        out = torch.relu(self.fc1(out))\n",
        "        out = torch.relu(self.fc2(out))\n",
        "        out = self.fc3(out)\n",
        "        return out"
      ],
      "execution_count": 6,
      "outputs": []
    },
    {
      "cell_type": "code",
      "metadata": {
        "colab": {
          "base_uri": "https://localhost:8080/"
        },
        "id": "6ZeCQGIFFi7a",
        "outputId": "d8e81c61-06f3-4cff-874b-3e9eff525aa5"
      },
      "source": [
        "device = (torch.device('cuda') if torch.cuda.is_available()\n",
        "          else torch.device('cpu'))\n",
        "print(f\"Training on device {device}.\")"
      ],
      "execution_count": 7,
      "outputs": [
        {
          "output_type": "stream",
          "text": [
            "Training on device cuda.\n"
          ],
          "name": "stdout"
        }
      ]
    },
    {
      "cell_type": "code",
      "metadata": {
        "id": "bbp0yLVXFmW5"
      },
      "source": [
        "import datetime\n",
        "\n",
        "def training_loop(n_epochs, optimizer, model, loss_fn, train_loader, schedular):\n",
        "    for epoch in range(1, n_epochs + 1):\n",
        "        loss_train = 0.0\n",
        "        for imgs, labels in train_loader:\n",
        "            imgs = imgs.to(device=device)  # <1>\n",
        "            labels = labels.to(device=device)\n",
        "            outputs = model(imgs)\n",
        "            loss = loss_fn(outputs, labels)\n",
        "\n",
        "            optimizer.zero_grad()\n",
        "            loss.backward()\n",
        "            optimizer.step()\n",
        "\n",
        "            loss_train += loss.item()\n",
        "\n",
        "        schedular.step() \n",
        "        print('{} Epoch {}, Training loss {}'.format(\n",
        "            datetime.datetime.now(), epoch,\n",
        "            loss_train / len(train_loader)))"
      ],
      "execution_count": 8,
      "outputs": []
    },
    {
      "cell_type": "code",
      "metadata": {
        "id": "G-7t1jkEF2ov"
      },
      "source": [
        "train_loader = torch.utils.data.DataLoader(cifar10, batch_size=64,\n",
        "                                           shuffle=True)\n",
        "\n",
        "model =  deep().to(device=device)# <1>\n",
        "optimizer = optim.SGD(model.parameters(), lr=1e-2, weight_decay=0.01)\n",
        "schedular = optim.lr_scheduler.MultiStepLR(optimizer, [50,85], gamma=0.1)\n",
        "loss_fn = nn.CrossEntropyLoss()"
      ],
      "execution_count": 9,
      "outputs": []
    },
    {
      "cell_type": "code",
      "metadata": {
        "id": "CtF2rkBJWOjC"
      },
      "source": [
        "from torchsummary import summary\n",
        "summary(model,(3,32,32))"
      ],
      "execution_count": null,
      "outputs": []
    },
    {
      "cell_type": "code",
      "metadata": {
        "colab": {
          "base_uri": "https://localhost:8080/"
        },
        "id": "Am2asDUiF9Ng",
        "outputId": "227e15de-6666-493e-9bf9-cc8f0ca5561e"
      },
      "source": [
        "training_loop(  \n",
        "    n_epochs = 100,\n",
        "    optimizer = optimizer,\n",
        "    model = model,\n",
        "    loss_fn = loss_fn,\n",
        "    train_loader = train_loader, \n",
        "    schedular = schedular\n",
        ")"
      ],
      "execution_count": 11,
      "outputs": [
        {
          "output_type": "stream",
          "text": [
            "2021-07-31 07:26:45.053442 Epoch 1, Training loss 1.8153790540402504\n",
            "2021-07-31 07:28:10.158411 Epoch 2, Training loss 1.341204586617477\n",
            "2021-07-31 07:29:35.879146 Epoch 3, Training loss 1.1142738347163286\n",
            "2021-07-31 07:31:02.142383 Epoch 4, Training loss 0.9822061436865336\n",
            "2021-07-31 07:32:28.084055 Epoch 5, Training loss 0.8956750226600091\n",
            "2021-07-31 07:33:54.329051 Epoch 6, Training loss 0.837829377454565\n",
            "2021-07-31 07:35:20.170078 Epoch 7, Training loss 0.7866853319318093\n",
            "2021-07-31 07:36:45.995773 Epoch 8, Training loss 0.7376360129898466\n",
            "2021-07-31 07:38:12.074362 Epoch 9, Training loss 0.7048707171855375\n",
            "2021-07-31 07:39:38.099320 Epoch 10, Training loss 0.6660417033659528\n",
            "2021-07-31 07:41:03.965688 Epoch 11, Training loss 0.6453866245572829\n",
            "2021-07-31 07:42:29.227396 Epoch 12, Training loss 0.6115765212213292\n",
            "2021-07-31 07:43:54.489330 Epoch 13, Training loss 0.595123569735938\n",
            "2021-07-31 07:45:20.259157 Epoch 14, Training loss 0.5708884028598781\n",
            "2021-07-31 07:46:45.520342 Epoch 15, Training loss 0.5578508258170789\n",
            "2021-07-31 07:48:11.211023 Epoch 16, Training loss 0.5367248868927017\n",
            "2021-07-31 07:49:36.752184 Epoch 17, Training loss 0.5262450656432021\n",
            "2021-07-31 07:51:02.442381 Epoch 18, Training loss 0.5193215588398297\n",
            "2021-07-31 07:52:27.801850 Epoch 19, Training loss 0.5066211931883832\n",
            "2021-07-31 07:53:52.996126 Epoch 20, Training loss 0.4942748026965219\n",
            "2021-07-31 07:55:18.352029 Epoch 21, Training loss 0.48372054115280777\n",
            "2021-07-31 07:56:43.690420 Epoch 22, Training loss 0.4810818171752688\n",
            "2021-07-31 07:58:09.090927 Epoch 23, Training loss 0.4726721930801106\n",
            "2021-07-31 07:59:34.363705 Epoch 24, Training loss 0.4631402217937857\n",
            "2021-07-31 08:00:59.901633 Epoch 25, Training loss 0.45788259043946594\n",
            "2021-07-31 08:02:25.056937 Epoch 26, Training loss 0.4527972009023437\n",
            "2021-07-31 08:03:50.459193 Epoch 27, Training loss 0.44537271761223485\n",
            "2021-07-31 08:05:16.123372 Epoch 28, Training loss 0.4379901823866398\n",
            "2021-07-31 08:06:42.023997 Epoch 29, Training loss 0.4378766254772006\n",
            "2021-07-31 08:08:08.129173 Epoch 30, Training loss 0.43010784836147753\n",
            "2021-07-31 08:09:33.641501 Epoch 31, Training loss 0.4229136592972919\n",
            "2021-07-31 08:10:59.346332 Epoch 32, Training loss 0.4209129029832533\n",
            "2021-07-31 08:12:25.229363 Epoch 33, Training loss 0.41207746963214387\n",
            "2021-07-31 08:13:51.506075 Epoch 34, Training loss 0.41362901834194615\n",
            "2021-07-31 08:15:17.556939 Epoch 35, Training loss 0.4086265468117221\n",
            "2021-07-31 08:16:43.635745 Epoch 36, Training loss 0.403421007058657\n",
            "2021-07-31 08:18:09.435896 Epoch 37, Training loss 0.3999013962495662\n",
            "2021-07-31 08:19:35.283238 Epoch 38, Training loss 0.3972727851870725\n",
            "2021-07-31 08:21:01.213352 Epoch 39, Training loss 0.39054518957119766\n",
            "2021-07-31 08:22:27.593525 Epoch 40, Training loss 0.39261926194209884\n",
            "2021-07-31 08:23:54.490761 Epoch 41, Training loss 0.3907470633001888\n",
            "2021-07-31 08:25:20.695965 Epoch 42, Training loss 0.38589211910620064\n",
            "2021-07-31 08:26:46.777711 Epoch 43, Training loss 0.3826155179868574\n",
            "2021-07-31 08:28:13.023622 Epoch 44, Training loss 0.38395785899532725\n",
            "2021-07-31 08:29:38.978900 Epoch 45, Training loss 0.3772333559611112\n",
            "2021-07-31 08:31:05.106486 Epoch 46, Training loss 0.3765831473795578\n",
            "2021-07-31 08:32:31.089225 Epoch 47, Training loss 0.3712740685895581\n",
            "2021-07-31 08:33:57.519028 Epoch 48, Training loss 0.37197166645084806\n",
            "2021-07-31 08:35:23.470309 Epoch 49, Training loss 0.36834769389208627\n",
            "2021-07-31 08:36:49.361056 Epoch 50, Training loss 0.3656384132592879\n",
            "2021-07-31 08:38:15.337274 Epoch 51, Training loss 0.25460709485670796\n",
            "2021-07-31 08:39:41.253657 Epoch 52, Training loss 0.2209241340017837\n",
            "2021-07-31 08:41:07.514491 Epoch 53, Training loss 0.21112886049291668\n",
            "2021-07-31 08:42:33.426394 Epoch 54, Training loss 0.20158097276564144\n",
            "2021-07-31 08:43:59.670652 Epoch 55, Training loss 0.19586540550431786\n",
            "2021-07-31 08:45:25.787389 Epoch 56, Training loss 0.1914893460348058\n",
            "2021-07-31 08:46:51.501148 Epoch 57, Training loss 0.18684056516536665\n",
            "2021-07-31 08:48:17.386235 Epoch 58, Training loss 0.1803675858670717\n",
            "2021-07-31 08:49:43.320070 Epoch 59, Training loss 0.17761445904860412\n",
            "2021-07-31 08:51:09.332630 Epoch 60, Training loss 0.17007543045855925\n",
            "2021-07-31 08:52:35.626438 Epoch 61, Training loss 0.16980674343131236\n",
            "2021-07-31 08:54:01.634095 Epoch 62, Training loss 0.16528997091038147\n",
            "2021-07-31 08:55:27.580738 Epoch 63, Training loss 0.1629667938651179\n",
            "2021-07-31 08:56:53.529851 Epoch 64, Training loss 0.15873452173569774\n",
            "2021-07-31 08:58:19.304734 Epoch 65, Training loss 0.15977421050171947\n",
            "2021-07-31 08:59:44.852438 Epoch 66, Training loss 0.15969220783961627\n",
            "2021-07-31 09:01:10.855397 Epoch 67, Training loss 0.1586045996569421\n",
            "2021-07-31 09:02:36.550435 Epoch 68, Training loss 0.1520417736023855\n",
            "2021-07-31 09:04:02.141763 Epoch 69, Training loss 0.15050618459835\n",
            "2021-07-31 09:05:27.612879 Epoch 70, Training loss 0.14816227386398312\n",
            "2021-07-31 09:06:53.308487 Epoch 71, Training loss 0.14773595416704027\n",
            "2021-07-31 09:08:18.758120 Epoch 72, Training loss 0.14409535583061026\n",
            "2021-07-31 09:09:44.022496 Epoch 73, Training loss 0.1433398612081776\n",
            "2021-07-31 09:11:09.484030 Epoch 74, Training loss 0.1432631052268283\n",
            "2021-07-31 09:12:34.863077 Epoch 75, Training loss 0.14178574834581073\n",
            "2021-07-31 09:14:00.357560 Epoch 76, Training loss 0.14195486878418861\n",
            "2021-07-31 09:15:25.651187 Epoch 77, Training loss 0.1413662721691153\n",
            "2021-07-31 09:16:51.250340 Epoch 78, Training loss 0.1407989684177939\n",
            "2021-07-31 09:18:16.472578 Epoch 79, Training loss 0.1358902974892646\n",
            "2021-07-31 09:19:41.568164 Epoch 80, Training loss 0.13646866701771992\n",
            "2021-07-31 09:21:06.966283 Epoch 81, Training loss 0.1336757866356074\n",
            "2021-07-31 09:22:32.328097 Epoch 82, Training loss 0.13529848495064795\n",
            "2021-07-31 09:23:57.717844 Epoch 83, Training loss 0.13488166831443302\n",
            "2021-07-31 09:25:22.845959 Epoch 84, Training loss 0.13510523592133808\n",
            "2021-07-31 09:26:47.927872 Epoch 85, Training loss 0.1305219444227131\n",
            "2021-07-31 09:28:13.660450 Epoch 86, Training loss 0.1116830804147055\n",
            "2021-07-31 09:29:38.762856 Epoch 87, Training loss 0.10083162232690379\n",
            "2021-07-31 09:31:04.148923 Epoch 88, Training loss 0.0976320247134894\n",
            "2021-07-31 09:32:29.350541 Epoch 89, Training loss 0.09590254265510137\n",
            "2021-07-31 09:33:55.187635 Epoch 90, Training loss 0.09446697132280835\n",
            "2021-07-31 09:35:20.299076 Epoch 91, Training loss 0.09326363600018765\n",
            "2021-07-31 09:36:45.380992 Epoch 92, Training loss 0.09347935541011297\n",
            "2021-07-31 09:38:10.740936 Epoch 93, Training loss 0.09445278145268064\n",
            "2021-07-31 09:39:36.130111 Epoch 94, Training loss 0.08993348200112353\n",
            "2021-07-31 09:41:01.501038 Epoch 95, Training loss 0.09003792814624584\n",
            "2021-07-31 09:42:26.786060 Epoch 96, Training loss 0.08855521915447148\n",
            "2021-07-31 09:43:52.018408 Epoch 97, Training loss 0.08615103738901712\n",
            "2021-07-31 09:45:17.567348 Epoch 98, Training loss 0.08896284107514241\n",
            "2021-07-31 09:46:42.775949 Epoch 99, Training loss 0.08693900768218747\n",
            "2021-07-31 09:48:08.268470 Epoch 100, Training loss 0.08425852458547715\n"
          ],
          "name": "stdout"
        }
      ]
    },
    {
      "cell_type": "code",
      "metadata": {
        "id": "pechtawvXO8r",
        "colab": {
          "base_uri": "https://localhost:8080/"
        },
        "outputId": "6c4605f2-5ac9-4cf9-c9c9-96e28c8dff77"
      },
      "source": [
        "train_loader = torch.utils.data.DataLoader(cifar10, batch_size=64,\n",
        "                                           shuffle=False)\n",
        "val_loader = torch.utils.data.DataLoader(cifar10_val, batch_size=64,\n",
        "                                         shuffle=False)\n",
        "\n",
        "def validate(model, train_loader, val_loader):\n",
        "    for name, loader in [(\"train\", train_loader), (\"val\", val_loader)]:\n",
        "        correct = 0\n",
        "        total = 0\n",
        "\n",
        "        with torch.no_grad():  # <1>\n",
        "            for imgs, labels in loader:\n",
        "                imgs = imgs.to(device=device)\n",
        "                labels = labels.to(device=device)\n",
        "                outputs = model(imgs)\n",
        "                _, predicted = torch.max(outputs, dim=1) # <2>\n",
        "                total += labels.shape[0]  # <3>\n",
        "                correct += int((predicted == labels).sum())  # <4>\n",
        "\n",
        "        print(\"Accuracy {}: {:.5f}\".format(name , correct / total))\n",
        "\n",
        "validate(model, train_loader, val_loader)"
      ],
      "execution_count": 12,
      "outputs": [
        {
          "output_type": "stream",
          "text": [
            "Accuracy train: 0.97298\n",
            "Accuracy val: 0.89940\n"
          ],
          "name": "stdout"
        }
      ]
    },
    {
      "cell_type": "code",
      "metadata": {
        "id": "ybQwKeJQ-yDP"
      },
      "source": [
        "optimizer = optim.SGD(model.parameters(), lr=0.0001, weight_decay=0.01)"
      ],
      "execution_count": 13,
      "outputs": []
    },
    {
      "cell_type": "code",
      "metadata": {
        "colab": {
          "base_uri": "https://localhost:8080/"
        },
        "id": "IHsAGVWs-_Cv",
        "outputId": "d0b4d228-7687-41f1-8314-86906c4b6586"
      },
      "source": [
        "training_loop(  \n",
        "    n_epochs = 10,\n",
        "    optimizer = optimizer,\n",
        "    model = model,\n",
        "    loss_fn = loss_fn,\n",
        "    train_loader = train_loader, \n",
        "    schedular = schedular\n",
        ")"
      ],
      "execution_count": 14,
      "outputs": [
        {
          "output_type": "stream",
          "text": [
            "2021-07-31 09:55:33.904073 Epoch 1, Training loss 0.08734519359753336\n",
            "2021-07-31 09:56:59.719448 Epoch 2, Training loss 0.08545545311620854\n",
            "2021-07-31 09:58:25.321029 Epoch 3, Training loss 0.08339083113509904\n",
            "2021-07-31 09:59:50.912315 Epoch 4, Training loss 0.08179607545204289\n",
            "2021-07-31 10:01:16.637043 Epoch 5, Training loss 0.08269403505322459\n",
            "2021-07-31 10:02:42.080491 Epoch 6, Training loss 0.0811040647115911\n",
            "2021-07-31 10:04:07.845876 Epoch 7, Training loss 0.08199799516121559\n",
            "2021-07-31 10:05:33.477687 Epoch 8, Training loss 0.08176422959474651\n",
            "2021-07-31 10:06:59.865838 Epoch 9, Training loss 0.07950862104077931\n",
            "2021-07-31 10:08:25.596955 Epoch 10, Training loss 0.07886941943203321\n"
          ],
          "name": "stdout"
        }
      ]
    },
    {
      "cell_type": "code",
      "metadata": {
        "colab": {
          "base_uri": "https://localhost:8080/"
        },
        "id": "8W_ln0JB_FT4",
        "outputId": "e5b4284f-4e45-422a-b238-02cb9c69ac02"
      },
      "source": [
        "validate(model, train_loader, val_loader)"
      ],
      "execution_count": 15,
      "outputs": [
        {
          "output_type": "stream",
          "text": [
            "Accuracy train: 0.97442\n",
            "Accuracy val: 0.90040\n"
          ],
          "name": "stdout"
        }
      ]
    }
  ]
}