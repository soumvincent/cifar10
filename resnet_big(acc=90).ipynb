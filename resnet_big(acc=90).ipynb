{
  "nbformat": 4,
  "nbformat_minor": 0,
  "metadata": {
    "colab": {
      "name": "resnet big(acc=90).ipynb",
      "provenance": [],
      "collapsed_sections": []
    },
    "kernelspec": {
      "name": "python3",
      "display_name": "Python 3"
    },
    "language_info": {
      "name": "python"
    },
    "accelerator": "GPU",
    "widgets": {
      "application/vnd.jupyter.widget-state+json": {
        "800d2f54c6334647a069a09b96e5636a": {
          "model_module": "@jupyter-widgets/controls",
          "model_name": "HBoxModel",
          "state": {
            "_view_name": "HBoxView",
            "_dom_classes": [],
            "_model_name": "HBoxModel",
            "_view_module": "@jupyter-widgets/controls",
            "_model_module_version": "1.5.0",
            "_view_count": null,
            "_view_module_version": "1.5.0",
            "box_style": "",
            "layout": "IPY_MODEL_47e3f6f5e06c4d8d8e4f7394bef6bab9",
            "_model_module": "@jupyter-widgets/controls",
            "children": [
              "IPY_MODEL_633fc5e3156b4af4a7a1d2e55a3e88db",
              "IPY_MODEL_e6cc89339cb64dc0b3c97f66357e3cc2"
            ]
          }
        },
        "47e3f6f5e06c4d8d8e4f7394bef6bab9": {
          "model_module": "@jupyter-widgets/base",
          "model_name": "LayoutModel",
          "state": {
            "_view_name": "LayoutView",
            "grid_template_rows": null,
            "right": null,
            "justify_content": null,
            "_view_module": "@jupyter-widgets/base",
            "overflow": null,
            "_model_module_version": "1.2.0",
            "_view_count": null,
            "flex_flow": null,
            "width": null,
            "min_width": null,
            "border": null,
            "align_items": null,
            "bottom": null,
            "_model_module": "@jupyter-widgets/base",
            "top": null,
            "grid_column": null,
            "overflow_y": null,
            "overflow_x": null,
            "grid_auto_flow": null,
            "grid_area": null,
            "grid_template_columns": null,
            "flex": null,
            "_model_name": "LayoutModel",
            "justify_items": null,
            "grid_row": null,
            "max_height": null,
            "align_content": null,
            "visibility": null,
            "align_self": null,
            "height": null,
            "min_height": null,
            "padding": null,
            "grid_auto_rows": null,
            "grid_gap": null,
            "max_width": null,
            "order": null,
            "_view_module_version": "1.2.0",
            "grid_template_areas": null,
            "object_position": null,
            "object_fit": null,
            "grid_auto_columns": null,
            "margin": null,
            "display": null,
            "left": null
          }
        },
        "633fc5e3156b4af4a7a1d2e55a3e88db": {
          "model_module": "@jupyter-widgets/controls",
          "model_name": "FloatProgressModel",
          "state": {
            "_view_name": "ProgressView",
            "style": "IPY_MODEL_659eddbe65df4fa68b6e52ad700dc3c8",
            "_dom_classes": [],
            "description": "",
            "_model_name": "FloatProgressModel",
            "bar_style": "success",
            "max": 170498071,
            "_view_module": "@jupyter-widgets/controls",
            "_model_module_version": "1.5.0",
            "value": 170498071,
            "_view_count": null,
            "_view_module_version": "1.5.0",
            "orientation": "horizontal",
            "min": 0,
            "description_tooltip": null,
            "_model_module": "@jupyter-widgets/controls",
            "layout": "IPY_MODEL_a3f3a0e90214487d955a193740dd8192"
          }
        },
        "e6cc89339cb64dc0b3c97f66357e3cc2": {
          "model_module": "@jupyter-widgets/controls",
          "model_name": "HTMLModel",
          "state": {
            "_view_name": "HTMLView",
            "style": "IPY_MODEL_3599e7773dbf413e9e26053f4c2a66ff",
            "_dom_classes": [],
            "description": "",
            "_model_name": "HTMLModel",
            "placeholder": "​",
            "_view_module": "@jupyter-widgets/controls",
            "_model_module_version": "1.5.0",
            "value": " 170499072/? [2:02:18&lt;00:00, 23232.23it/s]",
            "_view_count": null,
            "_view_module_version": "1.5.0",
            "description_tooltip": null,
            "_model_module": "@jupyter-widgets/controls",
            "layout": "IPY_MODEL_bde6ca46dbdc4653af8307c34c7e8eca"
          }
        },
        "659eddbe65df4fa68b6e52ad700dc3c8": {
          "model_module": "@jupyter-widgets/controls",
          "model_name": "ProgressStyleModel",
          "state": {
            "_view_name": "StyleView",
            "_model_name": "ProgressStyleModel",
            "description_width": "initial",
            "_view_module": "@jupyter-widgets/base",
            "_model_module_version": "1.5.0",
            "_view_count": null,
            "_view_module_version": "1.2.0",
            "bar_color": null,
            "_model_module": "@jupyter-widgets/controls"
          }
        },
        "a3f3a0e90214487d955a193740dd8192": {
          "model_module": "@jupyter-widgets/base",
          "model_name": "LayoutModel",
          "state": {
            "_view_name": "LayoutView",
            "grid_template_rows": null,
            "right": null,
            "justify_content": null,
            "_view_module": "@jupyter-widgets/base",
            "overflow": null,
            "_model_module_version": "1.2.0",
            "_view_count": null,
            "flex_flow": null,
            "width": null,
            "min_width": null,
            "border": null,
            "align_items": null,
            "bottom": null,
            "_model_module": "@jupyter-widgets/base",
            "top": null,
            "grid_column": null,
            "overflow_y": null,
            "overflow_x": null,
            "grid_auto_flow": null,
            "grid_area": null,
            "grid_template_columns": null,
            "flex": null,
            "_model_name": "LayoutModel",
            "justify_items": null,
            "grid_row": null,
            "max_height": null,
            "align_content": null,
            "visibility": null,
            "align_self": null,
            "height": null,
            "min_height": null,
            "padding": null,
            "grid_auto_rows": null,
            "grid_gap": null,
            "max_width": null,
            "order": null,
            "_view_module_version": "1.2.0",
            "grid_template_areas": null,
            "object_position": null,
            "object_fit": null,
            "grid_auto_columns": null,
            "margin": null,
            "display": null,
            "left": null
          }
        },
        "3599e7773dbf413e9e26053f4c2a66ff": {
          "model_module": "@jupyter-widgets/controls",
          "model_name": "DescriptionStyleModel",
          "state": {
            "_view_name": "StyleView",
            "_model_name": "DescriptionStyleModel",
            "description_width": "",
            "_view_module": "@jupyter-widgets/base",
            "_model_module_version": "1.5.0",
            "_view_count": null,
            "_view_module_version": "1.2.0",
            "_model_module": "@jupyter-widgets/controls"
          }
        },
        "bde6ca46dbdc4653af8307c34c7e8eca": {
          "model_module": "@jupyter-widgets/base",
          "model_name": "LayoutModel",
          "state": {
            "_view_name": "LayoutView",
            "grid_template_rows": null,
            "right": null,
            "justify_content": null,
            "_view_module": "@jupyter-widgets/base",
            "overflow": null,
            "_model_module_version": "1.2.0",
            "_view_count": null,
            "flex_flow": null,
            "width": null,
            "min_width": null,
            "border": null,
            "align_items": null,
            "bottom": null,
            "_model_module": "@jupyter-widgets/base",
            "top": null,
            "grid_column": null,
            "overflow_y": null,
            "overflow_x": null,
            "grid_auto_flow": null,
            "grid_area": null,
            "grid_template_columns": null,
            "flex": null,
            "_model_name": "LayoutModel",
            "justify_items": null,
            "grid_row": null,
            "max_height": null,
            "align_content": null,
            "visibility": null,
            "align_self": null,
            "height": null,
            "min_height": null,
            "padding": null,
            "grid_auto_rows": null,
            "grid_gap": null,
            "max_width": null,
            "order": null,
            "_view_module_version": "1.2.0",
            "grid_template_areas": null,
            "object_position": null,
            "object_fit": null,
            "grid_auto_columns": null,
            "margin": null,
            "display": null,
            "left": null
          }
        }
      }
    }
  },
  "cells": [
    {
      "cell_type": "code",
      "metadata": {
        "id": "Rigs0jK5Etv0"
      },
      "source": [
        "%matplotlib inline\n",
        "from matplotlib import pyplot as plt\n",
        "import numpy as np\n",
        "import collections\n",
        "\n",
        "import torch\n",
        "import torch.nn as nn\n",
        "import torch.nn.functional as F\n",
        "import torch.optim as optim"
      ],
      "execution_count": 1,
      "outputs": []
    },
    {
      "cell_type": "code",
      "metadata": {
        "id": "vl0M_P0ME7Xx"
      },
      "source": [
        "class_names = ['airplane','automobile','bird','cat','deer',\n",
        "               'dog','frog','horse','ship','truck']"
      ],
      "execution_count": 2,
      "outputs": []
    },
    {
      "cell_type": "code",
      "metadata": {
        "colab": {
          "base_uri": "https://localhost:8080/",
          "height": 101,
          "referenced_widgets": [
            "800d2f54c6334647a069a09b96e5636a",
            "47e3f6f5e06c4d8d8e4f7394bef6bab9",
            "633fc5e3156b4af4a7a1d2e55a3e88db",
            "e6cc89339cb64dc0b3c97f66357e3cc2",
            "659eddbe65df4fa68b6e52ad700dc3c8",
            "a3f3a0e90214487d955a193740dd8192",
            "3599e7773dbf413e9e26053f4c2a66ff",
            "bde6ca46dbdc4653af8307c34c7e8eca"
          ]
        },
        "id": "ldIumvC2FDK7",
        "outputId": "b63ace33-6e0e-441e-ed9a-613ca9201c4b"
      },
      "source": [
        "from torchvision import datasets, transforms\n",
        "data_path = '/data-unversioned/p1ch6/'\n",
        "cifar10 = datasets.CIFAR10(\n",
        "    data_path, train=True, download=True,\n",
        "    transform=transforms.Compose([\n",
        "        transforms.RandomCrop(size=[32,32], padding=4),\n",
        "        transforms.RandomHorizontalFlip(),                       \n",
        "        transforms.ToTensor(),\n",
        "        transforms.Normalize((0.4915, 0.4823, 0.4468),                # priorly calculated mean and standard deviations.\n",
        "                             (0.2470, 0.2435, 0.2616))\n",
        "    ]))"
      ],
      "execution_count": 3,
      "outputs": [
        {
          "output_type": "stream",
          "text": [
            "Downloading https://www.cs.toronto.edu/~kriz/cifar-10-python.tar.gz to /data-unversioned/p1ch6/cifar-10-python.tar.gz\n"
          ],
          "name": "stdout"
        },
        {
          "output_type": "display_data",
          "data": {
            "application/vnd.jupyter.widget-view+json": {
              "model_id": "800d2f54c6334647a069a09b96e5636a",
              "version_minor": 0,
              "version_major": 2
            },
            "text/plain": [
              "HBox(children=(FloatProgress(value=0.0, max=170498071.0), HTML(value='')))"
            ]
          },
          "metadata": {
            "tags": []
          }
        },
        {
          "output_type": "stream",
          "text": [
            "\n",
            "Extracting /data-unversioned/p1ch6/cifar-10-python.tar.gz to /data-unversioned/p1ch6/\n"
          ],
          "name": "stdout"
        }
      ]
    },
    {
      "cell_type": "code",
      "metadata": {
        "colab": {
          "base_uri": "https://localhost:8080/"
        },
        "id": "6AAwQzSYFJsF",
        "outputId": "65fda30f-c8d3-4def-e6ab-86e3f4180f83"
      },
      "source": [
        "cifar10_val = datasets.CIFAR10(                      #loading the val set\n",
        "    data_path, train=False, download=True,\n",
        "    transform=transforms.Compose([\n",
        "        transforms.ToTensor(),\n",
        "        transforms.Normalize((0.4915, 0.4823, 0.4468),\n",
        "                             (0.2470, 0.2435, 0.2616))                      \n",
        "    ]))"
      ],
      "execution_count": 4,
      "outputs": [
        {
          "output_type": "stream",
          "text": [
            "Files already downloaded and verified\n"
          ],
          "name": "stdout"
        }
      ]
    },
    {
      "cell_type": "code",
      "metadata": {
        "id": "S_4n_0GMFNAG"
      },
      "source": [
        "class resblock(nn.Module):                    #creating a resblock which would be used iterativealy.\n",
        "    def __init__(self, n):\n",
        "        super(resblock, self).__init__()\n",
        "        self.conv = nn.Conv2d(n, n, kernel_size=3,\n",
        "                              padding=1, bias=False)                 # defining layers for forward\n",
        "        self.batch_norm = nn.BatchNorm2d(num_features=n)\n",
        "\n",
        "        torch.nn.init.kaiming_normal_(self.conv.weight,\n",
        "                                      nonlinearity='relu')  \n",
        "        torch.nn.init.constant_(self.batch_norm.weight, 0.5)\n",
        "        torch.nn.init.zeros_(self.batch_norm.bias)\n",
        "\n",
        "    def forward(self, x):\n",
        "        out = self.conv(x)                                 #Actual resblock with the skip connection over 1 layer\n",
        "        out = self.batch_norm(out)\n",
        "        out = torch.relu(out)\n",
        "        return out + x"
      ],
      "execution_count": 5,
      "outputs": []
    },
    {
      "cell_type": "code",
      "metadata": {
        "id": "otBQ6VLgFRcW"
      },
      "source": [
        "class deep(nn.Module):                # the model which uses resblock iteratively and some other layers\n",
        "    def __init__(self, n1=32, n_blocks=14):\n",
        "        super().__init__()\n",
        "        self.n1 = n1\n",
        "        self.conv1 = nn.Conv2d(3, n1, kernel_size=3, padding=1)\n",
        "        self.conv2 = nn.Conv2d(n1, 2*n1, kernel_size=3, padding=1)\n",
        "        self.conv3 = nn.Conv2d(2*n1, 4*n1, kernel_size=3, padding=1)       # defing layers for forward\n",
        "        self.resblocks = nn.Sequential(\n",
        "            *(n_blocks * [resblock(n=n1)]))\n",
        "        self.resblocks2 = nn.Sequential(\n",
        "            *(n_blocks * [resblock(n=n1*2)]))\n",
        "        self.resblocks3 = nn.Sequential(\n",
        "            *(n_blocks * [resblock(n=n1*4)]))\n",
        "        self.fc1 = nn.Linear(8 * 8 * n1*4, 32)\n",
        "        self.fc2 = nn.Linear(32, 16)\n",
        "        self.fc3 = nn.Linear(16, 10)\n",
        "        \n",
        "    def forward(self, x):                    # using the resblocks 3 times, each with twice the number of channels as before\n",
        "        out = torch.relu(self.conv1(x))\n",
        "        out = self.resblocks(out)                          \n",
        "        out = F.max_pool2d(out, 2) \n",
        "        out = self.conv2(out)\n",
        "        out = self.resblocks2(out)\n",
        "        out = F.max_pool2d(out, 2) \n",
        "        out = self.conv3(out)\n",
        "        out = self.resblocks3(out)\n",
        "        out = out.view(-1, 8 * 8 * self.n1*4)\n",
        "        out = torch.relu(self.fc1(out))\n",
        "        out = torch.relu(self.fc2(out))\n",
        "        out = self.fc3(out)\n",
        "        return out"
      ],
      "execution_count": 6,
      "outputs": []
    },
    {
      "cell_type": "code",
      "metadata": {
        "colab": {
          "base_uri": "https://localhost:8080/"
        },
        "id": "6ZeCQGIFFi7a",
        "outputId": "f1f03cf4-60a2-4364-a82b-ce71da5e8d46"
      },
      "source": [
        "device = (torch.device('cuda') if torch.cuda.is_available()\n",
        "          else torch.device('cpu'))                             # shifting to gpu if available\n",
        "print(f\"Training on device {device}.\")"
      ],
      "execution_count": 7,
      "outputs": [
        {
          "output_type": "stream",
          "text": [
            "Training on device cuda.\n"
          ],
          "name": "stdout"
        }
      ]
    },
    {
      "cell_type": "code",
      "metadata": {
        "id": "bbp0yLVXFmW5"
      },
      "source": [
        "import datetime\n",
        "\n",
        "def training_loop(n_epochs, optimizer, model, loss_fn, train_loader):           # defining the training loop\n",
        "    for epoch in range(1, n_epochs + 1):                                        # these inputs would be defined in next cell\n",
        "        loss_train = 0.0\n",
        "        for imgs, labels in train_loader:\n",
        "            imgs = imgs.to(device=device)  # <1>\n",
        "            labels = labels.to(device=device)\n",
        "            outputs = model(imgs)\n",
        "            loss = loss_fn(outputs, labels)\n",
        "\n",
        "            optimizer.zero_grad()\n",
        "            loss.backward()\n",
        "            optimizer.step()\n",
        "\n",
        "            loss_train += loss.item()\n",
        "\n",
        "        \n",
        "        print('{} Epoch {}, Training loss {}'.format(\n",
        "            datetime.datetime.now(), epoch,\n",
        "            loss_train / len(train_loader)))"
      ],
      "execution_count": 8,
      "outputs": []
    },
    {
      "cell_type": "code",
      "metadata": {
        "id": "G-7t1jkEF2ov"
      },
      "source": [
        "train_loader = torch.utils.data.DataLoader(cifar10, batch_size=64,\n",
        "                                           shuffle=True)                   # defining mini batch size and shuffling\n",
        "\n",
        "model =  deep().to(device=device)# <1>\n",
        "optimizer = optim.SGD(model.parameters(), lr=1e-2, weight_decay=0.01)\n",
        "loss_fn = nn.CrossEntropyLoss()"
      ],
      "execution_count": 9,
      "outputs": []
    },
    {
      "cell_type": "code",
      "metadata": {
        "id": "Am2asDUiF9Ng"
      },
      "source": [
        "training_loop(                   #calling the training loop finally\n",
        "    n_epochs = 80,\n",
        "    optimizer = optimizer,\n",
        "    model = model,\n",
        "    loss_fn = loss_fn,\n",
        "    train_loader = train_loader,\n",
        ")"
      ],
      "execution_count": null,
      "outputs": []
    },
    {
      "cell_type": "code",
      "metadata": {
        "id": "pechtawvXO8r",
        "colab": {
          "base_uri": "https://localhost:8080/"
        },
        "outputId": "313e3a38-ae13-426b-dbbe-9f5a0145c9d2"
      },
      "source": [
        "train_loader = torch.utils.data.DataLoader(cifar10, batch_size=64,\n",
        "                                           shuffle=False)\n",
        "val_loader = torch.utils.data.DataLoader(cifar10_val, batch_size=64,\n",
        "                                         shuffle=False)\n",
        "\n",
        "def validate(model, train_loader, val_loader):\n",
        "    for name, loader in [(\"train\", train_loader), (\"val\", val_loader)]:\n",
        "        correct = 0\n",
        "        total = 0\n",
        "\n",
        "        with torch.no_grad():   # we do no need backpropagation for this hence the nograd\n",
        "            for imgs, labels in loader:\n",
        "                imgs = imgs.to(device=device)\n",
        "                labels = labels.to(device=device)\n",
        "                outputs = model(imgs)\n",
        "                _, predicted = torch.max(outputs, dim=1) # taking the class at maximum probability as prediction\n",
        "                total += labels.shape[0]  \n",
        "                correct += int((predicted == labels).sum())   # calculating the no. of correct predictions.\n",
        "\n",
        "        print(\"Accuracy {}: {:.2f}\".format(name , correct / total))\n",
        "\n",
        "validate(model, train_loader, val_loader)"
      ],
      "execution_count": 15,
      "outputs": [
        {
          "output_type": "stream",
          "text": [
            "Accuracy train: 0.89\n",
            "Accuracy val: 0.86\n"
          ],
          "name": "stdout"
        }
      ]
    },
    {
      "cell_type": "code",
      "metadata": {
        "id": "aVEhFrX_XSO3"
      },
      "source": [
        "optimizer = optim.SGD(model.parameters(), lr=0.01, weight_decay=0.01)      #lowering LR"
      ],
      "execution_count": 13,
      "outputs": []
    },
    {
      "cell_type": "code",
      "metadata": {
        "id": "gkdtelDLXd02"
      },
      "source": [
        "training_loop(   # 10 iterations with new LR\n",
        "    n_epochs = 10,                      \n",
        "    optimizer = optimizer,\n",
        "    model = model,\n",
        "    loss_fn = loss_fn,\n",
        "    train_loader = train_loader,\n",
        ")"
      ],
      "execution_count": null,
      "outputs": []
    },
    {
      "cell_type": "code",
      "metadata": {
        "id": "BJbBNHvAaUQB"
      },
      "source": [
        "optimizer = optim.SGD(model.parameters(), lr=0.001, weight_decay=0.001)     #further lowering LR"
      ],
      "execution_count": 16,
      "outputs": []
    },
    {
      "cell_type": "code",
      "metadata": {
        "colab": {
          "base_uri": "https://localhost:8080/"
        },
        "id": "zdydchtvam35",
        "outputId": "088673bc-e98c-496c-faa3-eb2779a868bc"
      },
      "source": [
        "training_loop(                    # another 10 iterations\n",
        "    n_epochs = 10,\n",
        "    optimizer = optimizer,\n",
        "    model = model,\n",
        "    loss_fn = loss_fn,\n",
        "    train_loader = train_loader,\n",
        ")"
      ],
      "execution_count": 17,
      "outputs": [
        {
          "output_type": "stream",
          "text": [
            "2021-07-29 13:19:36.676366 Epoch 1, Training loss 0.21547675989282405\n",
            "2021-07-29 13:20:47.210372 Epoch 2, Training loss 0.18545380728247832\n",
            "2021-07-29 13:21:57.443589 Epoch 3, Training loss 0.1689264615735663\n",
            "2021-07-29 13:23:07.791370 Epoch 4, Training loss 0.15852573410610257\n",
            "2021-07-29 13:24:18.132344 Epoch 5, Training loss 0.15325718430463997\n",
            "2021-07-29 13:25:29.122913 Epoch 6, Training loss 0.14544702793859765\n",
            "2021-07-29 13:26:39.644823 Epoch 7, Training loss 0.14116498423011406\n",
            "2021-07-29 13:27:50.090788 Epoch 8, Training loss 0.1331365378811727\n",
            "2021-07-29 13:29:00.388697 Epoch 9, Training loss 0.12908455516066392\n",
            "2021-07-29 13:30:11.258031 Epoch 10, Training loss 0.12649944155474604\n"
          ],
          "name": "stdout"
        }
      ]
    },
    {
      "cell_type": "code",
      "metadata": {
        "colab": {
          "base_uri": "https://localhost:8080/"
        },
        "id": "I0nClU7oc2ZQ",
        "outputId": "2b8f2151-8db7-44ec-e900-052475f1569c"
      },
      "source": [
        "validate(model, train_loader, val_loader)           #now checking acc"
      ],
      "execution_count": 18,
      "outputs": [
        {
          "output_type": "stream",
          "text": [
            "Accuracy train: 0.96\n",
            "Accuracy val: 0.90\n"
          ],
          "name": "stdout"
        }
      ]
    },
    {
      "cell_type": "code",
      "metadata": {
        "id": "LeSir1gbeHMz"
      },
      "source": [
        "optimizer = optim.SGD(model.parameters(), lr=0.0005, weight_decay=0.005)  # trying to inc acc a bit more, \n",
        "#further lowering LR"
      ],
      "execution_count": 19,
      "outputs": []
    },
    {
      "cell_type": "code",
      "metadata": {
        "colab": {
          "base_uri": "https://localhost:8080/"
        },
        "id": "fCmeEHFmeNH4",
        "outputId": "2a894ae4-0e07-47bb-df9b-bb53ab0fb225"
      },
      "source": [
        "training_loop(             #another 10 iterations\n",
        "    n_epochs = 10,\n",
        "    optimizer = optimizer,\n",
        "    model = model,\n",
        "    loss_fn = loss_fn,\n",
        "    train_loader = train_loader,\n",
        ")"
      ],
      "execution_count": 20,
      "outputs": [
        {
          "output_type": "stream",
          "text": [
            "2021-07-29 13:35:15.584836 Epoch 1, Training loss 0.1171610201839977\n",
            "2021-07-29 13:36:25.968531 Epoch 2, Training loss 0.11383380780896872\n",
            "2021-07-29 13:37:35.910039 Epoch 3, Training loss 0.11141061599430678\n",
            "2021-07-29 13:38:46.136000 Epoch 4, Training loss 0.10897924863588056\n",
            "2021-07-29 13:39:56.394967 Epoch 5, Training loss 0.10631841458642231\n",
            "2021-07-29 13:41:07.116456 Epoch 6, Training loss 0.106746020078983\n",
            "2021-07-29 13:42:17.761997 Epoch 7, Training loss 0.10239207398389345\n",
            "2021-07-29 13:43:28.322475 Epoch 8, Training loss 0.10060076590370187\n",
            "2021-07-29 13:44:38.761763 Epoch 9, Training loss 0.09959321902574175\n",
            "2021-07-29 13:45:49.203933 Epoch 10, Training loss 0.09747522666840755\n"
          ],
          "name": "stdout"
        }
      ]
    },
    {
      "cell_type": "code",
      "metadata": {
        "colab": {
          "base_uri": "https://localhost:8080/"
        },
        "id": "YL51q7_ag0-E",
        "outputId": "e943b6fe-6992-420d-8caf-71e4299a4152"
      },
      "source": [
        "validate(model, train_loader, val_loader)"
      ],
      "execution_count": 21,
      "outputs": [
        {
          "output_type": "stream",
          "text": [
            "Accuracy train: 0.97\n",
            "Accuracy val: 0.90\n"
          ],
          "name": "stdout"
        }
      ]
    },
    {
      "cell_type": "markdown",
      "metadata": {
        "id": "whPKg0Bqs12k"
      },
      "source": [
        ""
      ]
    },
    {
      "cell_type": "code",
      "metadata": {
        "colab": {
          "base_uri": "https://localhost:8080/"
        },
        "id": "r_FWYCCKmU9A",
        "outputId": "ed6f2885-d140-4986-9e6b-1d79b688b5fc"
      },
      "source": [
        "from torchsummary import summary           #summary, according to it, it is a 132 layer model with 3M params.\n",
        "summary(model, (3, 32, 32))"
      ],
      "execution_count": 27,
      "outputs": [
        {
          "output_type": "stream",
          "text": [
            "----------------------------------------------------------------\n",
            "        Layer (type)               Output Shape         Param #\n",
            "================================================================\n",
            "            Conv2d-1           [-1, 32, 32, 32]             896\n",
            "            Conv2d-2           [-1, 32, 32, 32]           9,216\n",
            "       BatchNorm2d-3           [-1, 32, 32, 32]              64\n",
            "          resblock-4           [-1, 32, 32, 32]               0\n",
            "            Conv2d-5           [-1, 32, 32, 32]           9,216\n",
            "       BatchNorm2d-6           [-1, 32, 32, 32]              64\n",
            "          resblock-7           [-1, 32, 32, 32]               0\n",
            "            Conv2d-8           [-1, 32, 32, 32]           9,216\n",
            "       BatchNorm2d-9           [-1, 32, 32, 32]              64\n",
            "         resblock-10           [-1, 32, 32, 32]               0\n",
            "           Conv2d-11           [-1, 32, 32, 32]           9,216\n",
            "      BatchNorm2d-12           [-1, 32, 32, 32]              64\n",
            "         resblock-13           [-1, 32, 32, 32]               0\n",
            "           Conv2d-14           [-1, 32, 32, 32]           9,216\n",
            "      BatchNorm2d-15           [-1, 32, 32, 32]              64\n",
            "         resblock-16           [-1, 32, 32, 32]               0\n",
            "           Conv2d-17           [-1, 32, 32, 32]           9,216\n",
            "      BatchNorm2d-18           [-1, 32, 32, 32]              64\n",
            "         resblock-19           [-1, 32, 32, 32]               0\n",
            "           Conv2d-20           [-1, 32, 32, 32]           9,216\n",
            "      BatchNorm2d-21           [-1, 32, 32, 32]              64\n",
            "         resblock-22           [-1, 32, 32, 32]               0\n",
            "           Conv2d-23           [-1, 32, 32, 32]           9,216\n",
            "      BatchNorm2d-24           [-1, 32, 32, 32]              64\n",
            "         resblock-25           [-1, 32, 32, 32]               0\n",
            "           Conv2d-26           [-1, 32, 32, 32]           9,216\n",
            "      BatchNorm2d-27           [-1, 32, 32, 32]              64\n",
            "         resblock-28           [-1, 32, 32, 32]               0\n",
            "           Conv2d-29           [-1, 32, 32, 32]           9,216\n",
            "      BatchNorm2d-30           [-1, 32, 32, 32]              64\n",
            "         resblock-31           [-1, 32, 32, 32]               0\n",
            "           Conv2d-32           [-1, 32, 32, 32]           9,216\n",
            "      BatchNorm2d-33           [-1, 32, 32, 32]              64\n",
            "         resblock-34           [-1, 32, 32, 32]               0\n",
            "           Conv2d-35           [-1, 32, 32, 32]           9,216\n",
            "      BatchNorm2d-36           [-1, 32, 32, 32]              64\n",
            "         resblock-37           [-1, 32, 32, 32]               0\n",
            "           Conv2d-38           [-1, 32, 32, 32]           9,216\n",
            "      BatchNorm2d-39           [-1, 32, 32, 32]              64\n",
            "         resblock-40           [-1, 32, 32, 32]               0\n",
            "           Conv2d-41           [-1, 32, 32, 32]           9,216\n",
            "      BatchNorm2d-42           [-1, 32, 32, 32]              64\n",
            "         resblock-43           [-1, 32, 32, 32]               0\n",
            "           Conv2d-44           [-1, 64, 16, 16]          18,496\n",
            "           Conv2d-45           [-1, 64, 16, 16]          36,864\n",
            "      BatchNorm2d-46           [-1, 64, 16, 16]             128\n",
            "         resblock-47           [-1, 64, 16, 16]               0\n",
            "           Conv2d-48           [-1, 64, 16, 16]          36,864\n",
            "      BatchNorm2d-49           [-1, 64, 16, 16]             128\n",
            "         resblock-50           [-1, 64, 16, 16]               0\n",
            "           Conv2d-51           [-1, 64, 16, 16]          36,864\n",
            "      BatchNorm2d-52           [-1, 64, 16, 16]             128\n",
            "         resblock-53           [-1, 64, 16, 16]               0\n",
            "           Conv2d-54           [-1, 64, 16, 16]          36,864\n",
            "      BatchNorm2d-55           [-1, 64, 16, 16]             128\n",
            "         resblock-56           [-1, 64, 16, 16]               0\n",
            "           Conv2d-57           [-1, 64, 16, 16]          36,864\n",
            "      BatchNorm2d-58           [-1, 64, 16, 16]             128\n",
            "         resblock-59           [-1, 64, 16, 16]               0\n",
            "           Conv2d-60           [-1, 64, 16, 16]          36,864\n",
            "      BatchNorm2d-61           [-1, 64, 16, 16]             128\n",
            "         resblock-62           [-1, 64, 16, 16]               0\n",
            "           Conv2d-63           [-1, 64, 16, 16]          36,864\n",
            "      BatchNorm2d-64           [-1, 64, 16, 16]             128\n",
            "         resblock-65           [-1, 64, 16, 16]               0\n",
            "           Conv2d-66           [-1, 64, 16, 16]          36,864\n",
            "      BatchNorm2d-67           [-1, 64, 16, 16]             128\n",
            "         resblock-68           [-1, 64, 16, 16]               0\n",
            "           Conv2d-69           [-1, 64, 16, 16]          36,864\n",
            "      BatchNorm2d-70           [-1, 64, 16, 16]             128\n",
            "         resblock-71           [-1, 64, 16, 16]               0\n",
            "           Conv2d-72           [-1, 64, 16, 16]          36,864\n",
            "      BatchNorm2d-73           [-1, 64, 16, 16]             128\n",
            "         resblock-74           [-1, 64, 16, 16]               0\n",
            "           Conv2d-75           [-1, 64, 16, 16]          36,864\n",
            "      BatchNorm2d-76           [-1, 64, 16, 16]             128\n",
            "         resblock-77           [-1, 64, 16, 16]               0\n",
            "           Conv2d-78           [-1, 64, 16, 16]          36,864\n",
            "      BatchNorm2d-79           [-1, 64, 16, 16]             128\n",
            "         resblock-80           [-1, 64, 16, 16]               0\n",
            "           Conv2d-81           [-1, 64, 16, 16]          36,864\n",
            "      BatchNorm2d-82           [-1, 64, 16, 16]             128\n",
            "         resblock-83           [-1, 64, 16, 16]               0\n",
            "           Conv2d-84           [-1, 64, 16, 16]          36,864\n",
            "      BatchNorm2d-85           [-1, 64, 16, 16]             128\n",
            "         resblock-86           [-1, 64, 16, 16]               0\n",
            "           Conv2d-87            [-1, 128, 8, 8]          73,856\n",
            "           Conv2d-88            [-1, 128, 8, 8]         147,456\n",
            "      BatchNorm2d-89            [-1, 128, 8, 8]             256\n",
            "         resblock-90            [-1, 128, 8, 8]               0\n",
            "           Conv2d-91            [-1, 128, 8, 8]         147,456\n",
            "      BatchNorm2d-92            [-1, 128, 8, 8]             256\n",
            "         resblock-93            [-1, 128, 8, 8]               0\n",
            "           Conv2d-94            [-1, 128, 8, 8]         147,456\n",
            "      BatchNorm2d-95            [-1, 128, 8, 8]             256\n",
            "         resblock-96            [-1, 128, 8, 8]               0\n",
            "           Conv2d-97            [-1, 128, 8, 8]         147,456\n",
            "      BatchNorm2d-98            [-1, 128, 8, 8]             256\n",
            "         resblock-99            [-1, 128, 8, 8]               0\n",
            "          Conv2d-100            [-1, 128, 8, 8]         147,456\n",
            "     BatchNorm2d-101            [-1, 128, 8, 8]             256\n",
            "        resblock-102            [-1, 128, 8, 8]               0\n",
            "          Conv2d-103            [-1, 128, 8, 8]         147,456\n",
            "     BatchNorm2d-104            [-1, 128, 8, 8]             256\n",
            "        resblock-105            [-1, 128, 8, 8]               0\n",
            "          Conv2d-106            [-1, 128, 8, 8]         147,456\n",
            "     BatchNorm2d-107            [-1, 128, 8, 8]             256\n",
            "        resblock-108            [-1, 128, 8, 8]               0\n",
            "          Conv2d-109            [-1, 128, 8, 8]         147,456\n",
            "     BatchNorm2d-110            [-1, 128, 8, 8]             256\n",
            "        resblock-111            [-1, 128, 8, 8]               0\n",
            "          Conv2d-112            [-1, 128, 8, 8]         147,456\n",
            "     BatchNorm2d-113            [-1, 128, 8, 8]             256\n",
            "        resblock-114            [-1, 128, 8, 8]               0\n",
            "          Conv2d-115            [-1, 128, 8, 8]         147,456\n",
            "     BatchNorm2d-116            [-1, 128, 8, 8]             256\n",
            "        resblock-117            [-1, 128, 8, 8]               0\n",
            "          Conv2d-118            [-1, 128, 8, 8]         147,456\n",
            "     BatchNorm2d-119            [-1, 128, 8, 8]             256\n",
            "        resblock-120            [-1, 128, 8, 8]               0\n",
            "          Conv2d-121            [-1, 128, 8, 8]         147,456\n",
            "     BatchNorm2d-122            [-1, 128, 8, 8]             256\n",
            "        resblock-123            [-1, 128, 8, 8]               0\n",
            "          Conv2d-124            [-1, 128, 8, 8]         147,456\n",
            "     BatchNorm2d-125            [-1, 128, 8, 8]             256\n",
            "        resblock-126            [-1, 128, 8, 8]               0\n",
            "          Conv2d-127            [-1, 128, 8, 8]         147,456\n",
            "     BatchNorm2d-128            [-1, 128, 8, 8]             256\n",
            "        resblock-129            [-1, 128, 8, 8]               0\n",
            "          Linear-130                   [-1, 32]         262,176\n",
            "          Linear-131                   [-1, 16]             528\n",
            "          Linear-132                   [-1, 10]             170\n",
            "================================================================\n",
            "Total params: 3,071,898\n",
            "Trainable params: 3,071,898\n",
            "Non-trainable params: 0\n",
            "----------------------------------------------------------------\n",
            "Input size (MB): 0.01\n",
            "Forward/backward pass size (MB): 18.81\n",
            "Params size (MB): 11.72\n",
            "Estimated Total Size (MB): 30.54\n",
            "----------------------------------------------------------------\n"
          ],
          "name": "stdout"
        }
      ]
    },
    {
      "cell_type": "code",
      "metadata": {
        "id": "pn5szaQ3mmoO"
      },
      "source": [
        ""
      ],
      "execution_count": null,
      "outputs": []
    }
  ]
}