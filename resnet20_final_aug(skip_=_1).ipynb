{
  "nbformat": 4,
  "nbformat_minor": 0,
  "metadata": {
    "colab": {
      "name": "resnet20 final aug(skip = 1).ipynb",
      "provenance": [],
      "collapsed_sections": []
    },
    "kernelspec": {
      "name": "python3",
      "display_name": "Python 3"
    },
    "language_info": {
      "name": "python"
    },
    "accelerator": "GPU",
    "widgets": {
      "application/vnd.jupyter.widget-state+json": {
        "953dfb4ee6b54a52b69c94b5bb945959": {
          "model_module": "@jupyter-widgets/controls",
          "model_name": "HBoxModel",
          "state": {
            "_view_name": "HBoxView",
            "_dom_classes": [],
            "_model_name": "HBoxModel",
            "_view_module": "@jupyter-widgets/controls",
            "_model_module_version": "1.5.0",
            "_view_count": null,
            "_view_module_version": "1.5.0",
            "box_style": "",
            "layout": "IPY_MODEL_411321eb050d43fa8f04e87150b6498d",
            "_model_module": "@jupyter-widgets/controls",
            "children": [
              "IPY_MODEL_7cf72f066c3b436492847d72aa613c33",
              "IPY_MODEL_0bae20874456461f953368e4370530e3"
            ]
          }
        },
        "411321eb050d43fa8f04e87150b6498d": {
          "model_module": "@jupyter-widgets/base",
          "model_name": "LayoutModel",
          "state": {
            "_view_name": "LayoutView",
            "grid_template_rows": null,
            "right": null,
            "justify_content": null,
            "_view_module": "@jupyter-widgets/base",
            "overflow": null,
            "_model_module_version": "1.2.0",
            "_view_count": null,
            "flex_flow": null,
            "width": null,
            "min_width": null,
            "border": null,
            "align_items": null,
            "bottom": null,
            "_model_module": "@jupyter-widgets/base",
            "top": null,
            "grid_column": null,
            "overflow_y": null,
            "overflow_x": null,
            "grid_auto_flow": null,
            "grid_area": null,
            "grid_template_columns": null,
            "flex": null,
            "_model_name": "LayoutModel",
            "justify_items": null,
            "grid_row": null,
            "max_height": null,
            "align_content": null,
            "visibility": null,
            "align_self": null,
            "height": null,
            "min_height": null,
            "padding": null,
            "grid_auto_rows": null,
            "grid_gap": null,
            "max_width": null,
            "order": null,
            "_view_module_version": "1.2.0",
            "grid_template_areas": null,
            "object_position": null,
            "object_fit": null,
            "grid_auto_columns": null,
            "margin": null,
            "display": null,
            "left": null
          }
        },
        "7cf72f066c3b436492847d72aa613c33": {
          "model_module": "@jupyter-widgets/controls",
          "model_name": "FloatProgressModel",
          "state": {
            "_view_name": "ProgressView",
            "style": "IPY_MODEL_8ea89b166fb24948be967d9f98f135e5",
            "_dom_classes": [],
            "description": "",
            "_model_name": "FloatProgressModel",
            "bar_style": "success",
            "max": 170498071,
            "_view_module": "@jupyter-widgets/controls",
            "_model_module_version": "1.5.0",
            "value": 170498071,
            "_view_count": null,
            "_view_module_version": "1.5.0",
            "orientation": "horizontal",
            "min": 0,
            "description_tooltip": null,
            "_model_module": "@jupyter-widgets/controls",
            "layout": "IPY_MODEL_b9461554ed4a45fd97ac3655f9ab4473"
          }
        },
        "0bae20874456461f953368e4370530e3": {
          "model_module": "@jupyter-widgets/controls",
          "model_name": "HTMLModel",
          "state": {
            "_view_name": "HTMLView",
            "style": "IPY_MODEL_d34d0e420fb14582adb7ebe8c45d999a",
            "_dom_classes": [],
            "description": "",
            "_model_name": "HTMLModel",
            "placeholder": "​",
            "_view_module": "@jupyter-widgets/controls",
            "_model_module_version": "1.5.0",
            "value": " 170499072/? [00:04&lt;00:00, 41608489.33it/s]",
            "_view_count": null,
            "_view_module_version": "1.5.0",
            "description_tooltip": null,
            "_model_module": "@jupyter-widgets/controls",
            "layout": "IPY_MODEL_63543b34a2864eef91ae71e9c1e4459c"
          }
        },
        "8ea89b166fb24948be967d9f98f135e5": {
          "model_module": "@jupyter-widgets/controls",
          "model_name": "ProgressStyleModel",
          "state": {
            "_view_name": "StyleView",
            "_model_name": "ProgressStyleModel",
            "description_width": "initial",
            "_view_module": "@jupyter-widgets/base",
            "_model_module_version": "1.5.0",
            "_view_count": null,
            "_view_module_version": "1.2.0",
            "bar_color": null,
            "_model_module": "@jupyter-widgets/controls"
          }
        },
        "b9461554ed4a45fd97ac3655f9ab4473": {
          "model_module": "@jupyter-widgets/base",
          "model_name": "LayoutModel",
          "state": {
            "_view_name": "LayoutView",
            "grid_template_rows": null,
            "right": null,
            "justify_content": null,
            "_view_module": "@jupyter-widgets/base",
            "overflow": null,
            "_model_module_version": "1.2.0",
            "_view_count": null,
            "flex_flow": null,
            "width": null,
            "min_width": null,
            "border": null,
            "align_items": null,
            "bottom": null,
            "_model_module": "@jupyter-widgets/base",
            "top": null,
            "grid_column": null,
            "overflow_y": null,
            "overflow_x": null,
            "grid_auto_flow": null,
            "grid_area": null,
            "grid_template_columns": null,
            "flex": null,
            "_model_name": "LayoutModel",
            "justify_items": null,
            "grid_row": null,
            "max_height": null,
            "align_content": null,
            "visibility": null,
            "align_self": null,
            "height": null,
            "min_height": null,
            "padding": null,
            "grid_auto_rows": null,
            "grid_gap": null,
            "max_width": null,
            "order": null,
            "_view_module_version": "1.2.0",
            "grid_template_areas": null,
            "object_position": null,
            "object_fit": null,
            "grid_auto_columns": null,
            "margin": null,
            "display": null,
            "left": null
          }
        },
        "d34d0e420fb14582adb7ebe8c45d999a": {
          "model_module": "@jupyter-widgets/controls",
          "model_name": "DescriptionStyleModel",
          "state": {
            "_view_name": "StyleView",
            "_model_name": "DescriptionStyleModel",
            "description_width": "",
            "_view_module": "@jupyter-widgets/base",
            "_model_module_version": "1.5.0",
            "_view_count": null,
            "_view_module_version": "1.2.0",
            "_model_module": "@jupyter-widgets/controls"
          }
        },
        "63543b34a2864eef91ae71e9c1e4459c": {
          "model_module": "@jupyter-widgets/base",
          "model_name": "LayoutModel",
          "state": {
            "_view_name": "LayoutView",
            "grid_template_rows": null,
            "right": null,
            "justify_content": null,
            "_view_module": "@jupyter-widgets/base",
            "overflow": null,
            "_model_module_version": "1.2.0",
            "_view_count": null,
            "flex_flow": null,
            "width": null,
            "min_width": null,
            "border": null,
            "align_items": null,
            "bottom": null,
            "_model_module": "@jupyter-widgets/base",
            "top": null,
            "grid_column": null,
            "overflow_y": null,
            "overflow_x": null,
            "grid_auto_flow": null,
            "grid_area": null,
            "grid_template_columns": null,
            "flex": null,
            "_model_name": "LayoutModel",
            "justify_items": null,
            "grid_row": null,
            "max_height": null,
            "align_content": null,
            "visibility": null,
            "align_self": null,
            "height": null,
            "min_height": null,
            "padding": null,
            "grid_auto_rows": null,
            "grid_gap": null,
            "max_width": null,
            "order": null,
            "_view_module_version": "1.2.0",
            "grid_template_areas": null,
            "object_position": null,
            "object_fit": null,
            "grid_auto_columns": null,
            "margin": null,
            "display": null,
            "left": null
          }
        }
      }
    }
  },
  "cells": [
    {
      "cell_type": "code",
      "metadata": {
        "id": "Rigs0jK5Etv0"
      },
      "source": [
        "%matplotlib inline\n",
        "from matplotlib import pyplot as plt\n",
        "import numpy as np\n",
        "import collections\n",
        "\n",
        "import torch\n",
        "import torch.nn as nn\n",
        "import torch.nn.functional as F\n",
        "import torch.optim as optim"
      ],
      "execution_count": 1,
      "outputs": []
    },
    {
      "cell_type": "code",
      "metadata": {
        "id": "vl0M_P0ME7Xx"
      },
      "source": [
        "class_names = ['airplane','automobile','bird','cat','deer',\n",
        "               'dog','frog','horse','ship','truck']"
      ],
      "execution_count": 2,
      "outputs": []
    },
    {
      "cell_type": "code",
      "metadata": {
        "colab": {
          "base_uri": "https://localhost:8080/",
          "height": 101,
          "referenced_widgets": [
            "953dfb4ee6b54a52b69c94b5bb945959",
            "411321eb050d43fa8f04e87150b6498d",
            "7cf72f066c3b436492847d72aa613c33",
            "0bae20874456461f953368e4370530e3",
            "8ea89b166fb24948be967d9f98f135e5",
            "b9461554ed4a45fd97ac3655f9ab4473",
            "d34d0e420fb14582adb7ebe8c45d999a",
            "63543b34a2864eef91ae71e9c1e4459c"
          ]
        },
        "id": "ldIumvC2FDK7",
        "outputId": "944885bf-e8b7-4876-db75-87f372ac11ba"
      },
      "source": [
        "from torchvision import datasets, transforms\n",
        "data_path = '/data-unversioned/p1ch6/'\n",
        "cifar10 = datasets.CIFAR10(\n",
        "    data_path, train=True, download=True,\n",
        "    transform=transforms.Compose([\n",
        "        transforms.RandomHorizontalFlip(),\n",
        "        transforms.RandomCrop(size=[32,32], padding=4),                        \n",
        "        transforms.ToTensor(),\n",
        "        transforms.Normalize((0.4915, 0.4823, 0.4468),\n",
        "                             (0.2470, 0.2435, 0.2616))\n",
        "    ]))"
      ],
      "execution_count": 3,
      "outputs": [
        {
          "output_type": "stream",
          "text": [
            "Downloading https://www.cs.toronto.edu/~kriz/cifar-10-python.tar.gz to /data-unversioned/p1ch6/cifar-10-python.tar.gz\n"
          ],
          "name": "stdout"
        },
        {
          "output_type": "display_data",
          "data": {
            "application/vnd.jupyter.widget-view+json": {
              "model_id": "953dfb4ee6b54a52b69c94b5bb945959",
              "version_minor": 0,
              "version_major": 2
            },
            "text/plain": [
              "HBox(children=(FloatProgress(value=0.0, max=170498071.0), HTML(value='')))"
            ]
          },
          "metadata": {
            "tags": []
          }
        },
        {
          "output_type": "stream",
          "text": [
            "\n",
            "Extracting /data-unversioned/p1ch6/cifar-10-python.tar.gz to /data-unversioned/p1ch6/\n"
          ],
          "name": "stdout"
        }
      ]
    },
    {
      "cell_type": "code",
      "metadata": {
        "colab": {
          "base_uri": "https://localhost:8080/"
        },
        "id": "6AAwQzSYFJsF",
        "outputId": "1675ac0e-3cea-4eb0-e571-194f156e2b36"
      },
      "source": [
        "cifar10_val = datasets.CIFAR10(\n",
        "    data_path, train=False, download=True,\n",
        "    transform=transforms.Compose([\n",
        "        transforms.ToTensor(),\n",
        "        transforms.Normalize((0.4915, 0.4823, 0.4468),\n",
        "                             (0.2470, 0.2435, 0.2616))\n",
        "    ]))"
      ],
      "execution_count": 4,
      "outputs": [
        {
          "output_type": "stream",
          "text": [
            "Files already downloaded and verified\n"
          ],
          "name": "stdout"
        }
      ]
    },
    {
      "cell_type": "code",
      "metadata": {
        "id": "S_4n_0GMFNAG"
      },
      "source": [
        "class resblock(nn.Module):\n",
        "    def __init__(self, n):\n",
        "        super(resblock, self).__init__()\n",
        "        self.conv = nn.Conv2d(n, n, kernel_size=3,\n",
        "                              padding=1, bias=False)  \n",
        "        self.batch_norm = nn.BatchNorm2d(num_features=n)\n",
        "\n",
        "        torch.nn.init.kaiming_normal_(self.conv.weight,\n",
        "                                      nonlinearity='relu')  \n",
        "        torch.nn.init.constant_(self.batch_norm.weight, 0.5)\n",
        "        torch.nn.init.zeros_(self.batch_norm.bias)\n",
        "\n",
        "    def forward(self, x):\n",
        "        out = self.conv(x)\n",
        "        out = self.batch_norm(out)\n",
        "        out = torch.relu(out)\n",
        "        return out + x"
      ],
      "execution_count": 8,
      "outputs": []
    },
    {
      "cell_type": "code",
      "metadata": {
        "id": "otBQ6VLgFRcW"
      },
      "source": [
        "class deep(nn.Module):\n",
        "    def __init__(self, n1=32, n_blocks=10):\n",
        "        super().__init__()\n",
        "        self.n1 = n1\n",
        "        self.conv1 = nn.Conv2d(3, n1, kernel_size=3, padding=1)\n",
        "        self.conv2 = nn.Conv2d(n1, 2*n1, kernel_size=3, padding=1)\n",
        "        self.resblocks = nn.Sequential(\n",
        "            *(n_blocks * [resblock(n=n1)]))\n",
        "        self.resblocks2 = nn.Sequential(\n",
        "            *(n_blocks * [resblock(n=n1*2)]))\n",
        "        self.fc1 = nn.Linear(8 * 8 * n1*2, 32)\n",
        "        self.fc2 = nn.Linear(32, 16)\n",
        "        self.fc3 = nn.Linear(16, 10)\n",
        "        \n",
        "    def forward(self, x):\n",
        "        out = F.max_pool2d(torch.relu(self.conv1(x)), 2)\n",
        "        out = self.resblocks(out)\n",
        "        out = F.max_pool2d(out, 2) \n",
        "        out = self.conv2(out)\n",
        "        out = self.resblocks2(out)\n",
        "        out = out.view(-1, 8 * 8 * self.n1*2)\n",
        "        out = torch.relu(self.fc1(out))\n",
        "        out = torch.relu(self.fc2(out))\n",
        "        out = self.fc3(out)\n",
        "        return out"
      ],
      "execution_count": 9,
      "outputs": []
    },
    {
      "cell_type": "code",
      "metadata": {
        "colab": {
          "base_uri": "https://localhost:8080/"
        },
        "id": "6ZeCQGIFFi7a",
        "outputId": "32d59473-d9f6-4858-bfc4-f4bfec52028f"
      },
      "source": [
        "device = (torch.device('cuda') if torch.cuda.is_available()\n",
        "          else torch.device('cpu'))\n",
        "print(f\"Training on device {device}.\")"
      ],
      "execution_count": 10,
      "outputs": [
        {
          "output_type": "stream",
          "text": [
            "Training on device cuda.\n"
          ],
          "name": "stdout"
        }
      ]
    },
    {
      "cell_type": "code",
      "metadata": {
        "id": "bbp0yLVXFmW5"
      },
      "source": [
        "import datetime\n",
        "\n",
        "def training_loop(n_epochs, optimizer, model, loss_fn, train_loader):\n",
        "    for epoch in range(1, n_epochs + 1):\n",
        "        loss_train = 0.0\n",
        "        for imgs, labels in train_loader:\n",
        "            imgs = imgs.to(device=device)  # <1>\n",
        "            labels = labels.to(device=device)\n",
        "            outputs = model(imgs)\n",
        "            loss = loss_fn(outputs, labels)\n",
        "\n",
        "            optimizer.zero_grad()\n",
        "            loss.backward()\n",
        "            optimizer.step()\n",
        "\n",
        "            loss_train += loss.item()\n",
        "\n",
        "        \n",
        "        print('{} Epoch {}, Training loss {}'.format(\n",
        "            datetime.datetime.now(), epoch,\n",
        "            loss_train / len(train_loader)))"
      ],
      "execution_count": 11,
      "outputs": []
    },
    {
      "cell_type": "code",
      "metadata": {
        "id": "G-7t1jkEF2ov"
      },
      "source": [
        "train_loader = torch.utils.data.DataLoader(cifar10, batch_size=64,\n",
        "                                           shuffle=True)\n",
        "\n",
        "model =  deep().to(device=device)# <1>\n",
        "optimizer = optim.SGD(model.parameters(), lr=1e-2)\n",
        "loss_fn = nn.CrossEntropyLoss()"
      ],
      "execution_count": 12,
      "outputs": []
    },
    {
      "cell_type": "code",
      "metadata": {
        "colab": {
          "base_uri": "https://localhost:8080/"
        },
        "id": "E3lvp1vJGDza",
        "outputId": "d0fdfaa7-f1af-4537-e4ca-979bf794e058"
      },
      "source": [
        "numel_list = [p.numel() for p in model.parameters()]\n",
        "sum(numel_list), numel_list"
      ],
      "execution_count": 13,
      "outputs": [
        {
          "output_type": "execute_result",
          "data": {
            "text/plain": [
              "(197466,\n",
              " [864,\n",
              "  32,\n",
              "  18432,\n",
              "  64,\n",
              "  9216,\n",
              "  32,\n",
              "  32,\n",
              "  36864,\n",
              "  64,\n",
              "  64,\n",
              "  131072,\n",
              "  32,\n",
              "  512,\n",
              "  16,\n",
              "  160,\n",
              "  10])"
            ]
          },
          "metadata": {
            "tags": []
          },
          "execution_count": 13
        }
      ]
    },
    {
      "cell_type": "code",
      "metadata": {
        "colab": {
          "base_uri": "https://localhost:8080/"
        },
        "id": "Am2asDUiF9Ng",
        "outputId": "dd79d35f-09be-4f0a-acda-be80d03efdc1"
      },
      "source": [
        "training_loop(  \n",
        "    n_epochs = 120,\n",
        "    optimizer = optimizer,\n",
        "    model = model,\n",
        "    loss_fn = loss_fn,\n",
        "    train_loader = train_loader,\n",
        ")"
      ],
      "execution_count": 14,
      "outputs": [
        {
          "output_type": "stream",
          "text": [
            "/usr/local/lib/python3.7/dist-packages/torch/nn/functional.py:718: UserWarning: Named tensors and all their associated APIs are an experimental feature and subject to change. Please do not use them for anything important until they are released as stable. (Triggered internally at  /pytorch/c10/core/TensorImpl.h:1156.)\n",
            "  return torch.max_pool2d(input, kernel_size, stride, padding, dilation, ceil_mode)\n"
          ],
          "name": "stderr"
        },
        {
          "output_type": "stream",
          "text": [
            "2021-07-28 20:18:49.268385 Epoch 1, Training loss 1.7523236902778412\n",
            "2021-07-28 20:19:12.319739 Epoch 2, Training loss 1.402837478367569\n",
            "2021-07-28 20:19:35.680677 Epoch 3, Training loss 1.2561684704345206\n",
            "2021-07-28 20:19:59.670977 Epoch 4, Training loss 1.157012913233179\n",
            "2021-07-28 20:20:22.434366 Epoch 5, Training loss 1.0894132747369654\n",
            "2021-07-28 20:20:45.292762 Epoch 6, Training loss 1.0324094272635478\n",
            "2021-07-28 20:21:09.207993 Epoch 7, Training loss 0.9849753670985132\n",
            "2021-07-28 20:21:31.911511 Epoch 8, Training loss 0.9485452819205916\n",
            "2021-07-28 20:21:54.910361 Epoch 9, Training loss 0.9092267276838307\n",
            "2021-07-28 20:22:18.643483 Epoch 10, Training loss 0.8876540916578849\n",
            "2021-07-28 20:22:41.311703 Epoch 11, Training loss 0.8597670698257358\n",
            "2021-07-28 20:23:04.493391 Epoch 12, Training loss 0.8349529629015862\n",
            "2021-07-28 20:23:28.110847 Epoch 13, Training loss 0.8172789963767352\n",
            "2021-07-28 20:23:50.732352 Epoch 14, Training loss 0.7981152838986852\n",
            "2021-07-28 20:24:14.180169 Epoch 15, Training loss 0.7861672922244767\n",
            "2021-07-28 20:24:37.582521 Epoch 16, Training loss 0.7667382137321145\n",
            "2021-07-28 20:25:00.271549 Epoch 17, Training loss 0.7565732721782401\n",
            "2021-07-28 20:25:23.694498 Epoch 18, Training loss 0.7431101795962399\n",
            "2021-07-28 20:25:47.084422 Epoch 19, Training loss 0.7265688820034647\n",
            "2021-07-28 20:26:10.518399 Epoch 20, Training loss 0.7221562347524916\n",
            "2021-07-28 20:26:33.059433 Epoch 21, Training loss 0.7060431677209752\n",
            "2021-07-28 20:26:56.006986 Epoch 22, Training loss 0.6972402702740697\n",
            "2021-07-28 20:27:19.430965 Epoch 23, Training loss 0.6845135721556671\n",
            "2021-07-28 20:27:41.932307 Epoch 24, Training loss 0.6756819741576529\n",
            "2021-07-28 20:28:05.203022 Epoch 25, Training loss 0.6696658188958302\n",
            "2021-07-28 20:28:28.383925 Epoch 26, Training loss 0.6610225843803962\n",
            "2021-07-28 20:28:50.960908 Epoch 27, Training loss 0.6530654898003849\n",
            "2021-07-28 20:29:14.524851 Epoch 28, Training loss 0.6452714454792344\n",
            "2021-07-28 20:29:37.432157 Epoch 29, Training loss 0.6336020624927242\n",
            "2021-07-28 20:30:00.053087 Epoch 30, Training loss 0.6230503441884999\n",
            "2021-07-28 20:30:23.864535 Epoch 31, Training loss 0.6245337064232668\n",
            "2021-07-28 20:30:47.342163 Epoch 32, Training loss 0.6203258101973692\n",
            "2021-07-28 20:31:10.720192 Epoch 33, Training loss 0.6072217490514527\n",
            "2021-07-28 20:31:33.309038 Epoch 34, Training loss 0.6062248024489264\n",
            "2021-07-28 20:31:56.758170 Epoch 35, Training loss 0.5973833701227937\n",
            "2021-07-28 20:32:19.812912 Epoch 36, Training loss 0.5909155334734246\n",
            "2021-07-28 20:32:42.232293 Epoch 37, Training loss 0.5915825902805913\n",
            "2021-07-28 20:33:05.666731 Epoch 38, Training loss 0.5829100718202493\n",
            "2021-07-28 20:33:28.450242 Epoch 39, Training loss 0.5745360456464236\n",
            "2021-07-28 20:33:50.580070 Epoch 40, Training loss 0.5725785233175663\n",
            "2021-07-28 20:34:14.089606 Epoch 41, Training loss 0.5750827854475402\n",
            "2021-07-28 20:34:36.630355 Epoch 42, Training loss 0.5657530452894128\n",
            "2021-07-28 20:34:58.886936 Epoch 43, Training loss 0.5553206052545392\n",
            "2021-07-28 20:35:22.377428 Epoch 44, Training loss 0.5557303793937959\n",
            "2021-07-28 20:35:44.866659 Epoch 45, Training loss 0.5516811337922235\n",
            "2021-07-28 20:36:07.101140 Epoch 46, Training loss 0.5462974134613486\n",
            "2021-07-28 20:36:30.915119 Epoch 47, Training loss 0.5447035957594661\n",
            "2021-07-28 20:36:54.254280 Epoch 48, Training loss 0.5385717084950499\n",
            "2021-07-28 20:37:17.320705 Epoch 49, Training loss 0.5413922201413328\n",
            "2021-07-28 20:37:39.648194 Epoch 50, Training loss 0.5356078196097823\n",
            "2021-07-28 20:38:03.310825 Epoch 51, Training loss 0.5282611203429949\n",
            "2021-07-28 20:38:26.188880 Epoch 52, Training loss 0.525898721364453\n",
            "2021-07-28 20:38:48.556110 Epoch 53, Training loss 0.5252611776980598\n",
            "2021-07-28 20:39:12.229026 Epoch 54, Training loss 0.5174924410746226\n",
            "2021-07-28 20:39:35.373094 Epoch 55, Training loss 0.516029648139806\n",
            "2021-07-28 20:39:58.099013 Epoch 56, Training loss 0.5123851887900811\n",
            "2021-07-28 20:40:21.848954 Epoch 57, Training loss 0.5123950010332305\n",
            "2021-07-28 20:40:44.205760 Epoch 58, Training loss 0.5050086699178457\n",
            "2021-07-28 20:41:06.622166 Epoch 59, Training loss 0.5019042694469547\n",
            "2021-07-28 20:41:30.360083 Epoch 60, Training loss 0.5006636943277496\n",
            "2021-07-28 20:41:53.685044 Epoch 61, Training loss 0.4999160004584381\n",
            "2021-07-28 20:42:16.786419 Epoch 62, Training loss 0.49721096238821666\n",
            "2021-07-28 20:42:38.942006 Epoch 63, Training loss 0.49098688268752966\n",
            "2021-07-28 20:43:02.461073 Epoch 64, Training loss 0.4898025169587501\n",
            "2021-07-28 20:43:25.128862 Epoch 65, Training loss 0.48876232975889045\n",
            "2021-07-28 20:43:47.294038 Epoch 66, Training loss 0.48598272742136667\n",
            "2021-07-28 20:44:11.008622 Epoch 67, Training loss 0.48073799079260254\n",
            "2021-07-28 20:44:34.052910 Epoch 68, Training loss 0.4759029828755142\n",
            "2021-07-28 20:44:56.561353 Epoch 69, Training loss 0.47946981653151916\n",
            "2021-07-28 20:45:20.204658 Epoch 70, Training loss 0.47729753037852707\n",
            "2021-07-28 20:45:42.504677 Epoch 71, Training loss 0.46741097772975104\n",
            "2021-07-28 20:46:05.014114 Epoch 72, Training loss 0.46926221320086425\n",
            "2021-07-28 20:46:28.682687 Epoch 73, Training loss 0.46913499651891194\n",
            "2021-07-28 20:46:52.108491 Epoch 74, Training loss 0.4701818573048048\n",
            "2021-07-28 20:47:14.967214 Epoch 75, Training loss 0.46462313928033994\n",
            "2021-07-28 20:47:37.200109 Epoch 76, Training loss 0.46610054695773917\n",
            "2021-07-28 20:48:00.761608 Epoch 77, Training loss 0.45478984170481374\n",
            "2021-07-28 20:48:23.404043 Epoch 78, Training loss 0.4556903012687593\n",
            "2021-07-28 20:48:45.738973 Epoch 79, Training loss 0.4541860492256901\n",
            "2021-07-28 20:49:09.752841 Epoch 80, Training loss 0.45100691443895136\n",
            "2021-07-28 20:49:32.465799 Epoch 81, Training loss 0.44854054125526066\n",
            "2021-07-28 20:49:55.177528 Epoch 82, Training loss 0.45350258414397765\n",
            "2021-07-28 20:50:19.043891 Epoch 83, Training loss 0.44311109722575265\n",
            "2021-07-28 20:50:41.627848 Epoch 84, Training loss 0.4472549360655153\n",
            "2021-07-28 20:51:04.371032 Epoch 85, Training loss 0.44103169727051045\n",
            "2021-07-28 20:51:28.029512 Epoch 86, Training loss 0.44169710534612844\n",
            "2021-07-28 20:51:50.636142 Epoch 87, Training loss 0.44326491202311136\n",
            "2021-07-28 20:52:13.736412 Epoch 88, Training loss 0.4356279505793091\n",
            "2021-07-28 20:52:37.424973 Epoch 89, Training loss 0.4300292838374367\n",
            "2021-07-28 20:53:01.549711 Epoch 90, Training loss 0.43233541648863527\n",
            "2021-07-28 20:53:24.150669 Epoch 91, Training loss 0.42740698992405707\n",
            "2021-07-28 20:53:46.680358 Epoch 92, Training loss 0.43201200644988236\n",
            "2021-07-28 20:54:10.392222 Epoch 93, Training loss 0.4269512483607168\n",
            "2021-07-28 20:54:32.890860 Epoch 94, Training loss 0.43130189420469583\n",
            "2021-07-28 20:54:55.712860 Epoch 95, Training loss 0.42210938985390434\n",
            "2021-07-28 20:55:19.508717 Epoch 96, Training loss 0.425286132070567\n",
            "2021-07-28 20:55:42.007317 Epoch 97, Training loss 0.4232188642139325\n",
            "2021-07-28 20:56:04.753760 Epoch 98, Training loss 0.4232263637854315\n",
            "2021-07-28 20:56:28.173603 Epoch 99, Training loss 0.42136215449065506\n",
            "2021-07-28 20:56:50.462814 Epoch 100, Training loss 0.41780684120438594\n",
            "2021-07-28 20:57:13.471042 Epoch 101, Training loss 0.4184398377109367\n",
            "2021-07-28 20:57:37.000862 Epoch 102, Training loss 0.4166976863999501\n",
            "2021-07-28 20:58:00.840494 Epoch 103, Training loss 0.4212481368075856\n",
            "2021-07-28 20:58:23.257795 Epoch 104, Training loss 0.41279920051469826\n",
            "2021-07-28 20:58:45.706269 Epoch 105, Training loss 0.41193674476174136\n",
            "2021-07-28 20:59:09.161021 Epoch 106, Training loss 0.4112059431879417\n",
            "2021-07-28 20:59:31.373698 Epoch 107, Training loss 0.4026968044698086\n",
            "2021-07-28 20:59:54.206005 Epoch 108, Training loss 0.4098135884613027\n",
            "2021-07-28 21:00:17.867243 Epoch 109, Training loss 0.40768469016417824\n",
            "2021-07-28 21:00:40.054844 Epoch 110, Training loss 0.4048286451936683\n",
            "2021-07-28 21:01:02.980961 Epoch 111, Training loss 0.403995619996277\n",
            "2021-07-28 21:01:26.261521 Epoch 112, Training loss 0.40290664239307805\n",
            "2021-07-28 21:01:48.241979 Epoch 113, Training loss 0.4001470493614826\n",
            "2021-07-28 21:02:11.243468 Epoch 114, Training loss 0.39602208575781656\n",
            "2021-07-28 21:02:34.504327 Epoch 115, Training loss 0.39779858211117325\n",
            "2021-07-28 21:02:57.892287 Epoch 116, Training loss 0.39689850619496286\n",
            "2021-07-28 21:03:21.738403 Epoch 117, Training loss 0.3923794953605098\n",
            "2021-07-28 21:03:45.157438 Epoch 118, Training loss 0.3920310650716352\n",
            "2021-07-28 21:04:08.800953 Epoch 119, Training loss 0.3953239893555031\n",
            "2021-07-28 21:04:31.149014 Epoch 120, Training loss 0.3894182163697984\n"
          ],
          "name": "stdout"
        }
      ]
    },
    {
      "cell_type": "code",
      "metadata": {
        "id": "8W884uopWebn"
      },
      "source": [
        "torch.save(model.state_dict(), r'C:\\Users\\hp\\Desktop\\me\\resnet20.pt')\n"
      ],
      "execution_count": null,
      "outputs": []
    },
    {
      "cell_type": "code",
      "metadata": {
        "colab": {
          "base_uri": "https://localhost:8080/"
        },
        "id": "pechtawvXO8r",
        "outputId": "a51c219d-4b17-444c-a9b7-e53d66b05991"
      },
      "source": [
        "train_loader = torch.utils.data.DataLoader(cifar10, batch_size=64,\n",
        "                                           shuffle=False)\n",
        "val_loader = torch.utils.data.DataLoader(cifar10_val, batch_size=64,\n",
        "                                         shuffle=False)\n",
        "\n",
        "def validate(model, train_loader, val_loader):\n",
        "    for name, loader in [(\"train\", train_loader), (\"val\", val_loader)]:\n",
        "        correct = 0\n",
        "        total = 0\n",
        "\n",
        "        with torch.no_grad():  # <1>\n",
        "            for imgs, labels in loader:\n",
        "                imgs = imgs.to(device=device)\n",
        "                labels = labels.to(device=device)\n",
        "                outputs = model(imgs)\n",
        "                _, predicted = torch.max(outputs, dim=1) # <2>\n",
        "                total += labels.shape[0]  # <3>\n",
        "                correct += int((predicted == labels).sum())  # <4>\n",
        "\n",
        "        print(\"Accuracy {}: {:.2f}\".format(name , correct / total))\n",
        "\n",
        "validate(model, train_loader, val_loader)"
      ],
      "execution_count": 15,
      "outputs": [
        {
          "output_type": "stream",
          "text": [
            "Accuracy train: 0.86\n",
            "Accuracy val: 0.82\n"
          ],
          "name": "stdout"
        }
      ]
    }
  ]
}