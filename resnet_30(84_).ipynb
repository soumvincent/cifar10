{
  "nbformat": 4,
  "nbformat_minor": 0,
  "metadata": {
    "colab": {
      "name": "resnet_30(84%).ipynb",
      "provenance": [],
      "collapsed_sections": []
    },
    "kernelspec": {
      "name": "python3",
      "display_name": "Python 3"
    },
    "language_info": {
      "name": "python"
    },
    "accelerator": "GPU",
    "widgets": {
      "application/vnd.jupyter.widget-state+json": {
        "1e8c05e707c141fea501212db7d1ab8c": {
          "model_module": "@jupyter-widgets/controls",
          "model_name": "HBoxModel",
          "state": {
            "_view_name": "HBoxView",
            "_dom_classes": [],
            "_model_name": "HBoxModel",
            "_view_module": "@jupyter-widgets/controls",
            "_model_module_version": "1.5.0",
            "_view_count": null,
            "_view_module_version": "1.5.0",
            "box_style": "",
            "layout": "IPY_MODEL_d72c94b6dc18468f832d2e1f355a6928",
            "_model_module": "@jupyter-widgets/controls",
            "children": [
              "IPY_MODEL_0d95a5912d3041528bc8b089d39cdd49",
              "IPY_MODEL_b220f3077cbc45fd8e0305c322d86bda"
            ]
          }
        },
        "d72c94b6dc18468f832d2e1f355a6928": {
          "model_module": "@jupyter-widgets/base",
          "model_name": "LayoutModel",
          "state": {
            "_view_name": "LayoutView",
            "grid_template_rows": null,
            "right": null,
            "justify_content": null,
            "_view_module": "@jupyter-widgets/base",
            "overflow": null,
            "_model_module_version": "1.2.0",
            "_view_count": null,
            "flex_flow": null,
            "width": null,
            "min_width": null,
            "border": null,
            "align_items": null,
            "bottom": null,
            "_model_module": "@jupyter-widgets/base",
            "top": null,
            "grid_column": null,
            "overflow_y": null,
            "overflow_x": null,
            "grid_auto_flow": null,
            "grid_area": null,
            "grid_template_columns": null,
            "flex": null,
            "_model_name": "LayoutModel",
            "justify_items": null,
            "grid_row": null,
            "max_height": null,
            "align_content": null,
            "visibility": null,
            "align_self": null,
            "height": null,
            "min_height": null,
            "padding": null,
            "grid_auto_rows": null,
            "grid_gap": null,
            "max_width": null,
            "order": null,
            "_view_module_version": "1.2.0",
            "grid_template_areas": null,
            "object_position": null,
            "object_fit": null,
            "grid_auto_columns": null,
            "margin": null,
            "display": null,
            "left": null
          }
        },
        "0d95a5912d3041528bc8b089d39cdd49": {
          "model_module": "@jupyter-widgets/controls",
          "model_name": "FloatProgressModel",
          "state": {
            "_view_name": "ProgressView",
            "style": "IPY_MODEL_1f477c142e03439cabf2bd6648dcbdf4",
            "_dom_classes": [],
            "description": "",
            "_model_name": "FloatProgressModel",
            "bar_style": "success",
            "max": 170498071,
            "_view_module": "@jupyter-widgets/controls",
            "_model_module_version": "1.5.0",
            "value": 170498071,
            "_view_count": null,
            "_view_module_version": "1.5.0",
            "orientation": "horizontal",
            "min": 0,
            "description_tooltip": null,
            "_model_module": "@jupyter-widgets/controls",
            "layout": "IPY_MODEL_d0e67aef81f0402ab79f914b36761fed"
          }
        },
        "b220f3077cbc45fd8e0305c322d86bda": {
          "model_module": "@jupyter-widgets/controls",
          "model_name": "HTMLModel",
          "state": {
            "_view_name": "HTMLView",
            "style": "IPY_MODEL_78b1b7db6173483b9294dc6792480739",
            "_dom_classes": [],
            "description": "",
            "_model_name": "HTMLModel",
            "placeholder": "​",
            "_view_module": "@jupyter-widgets/controls",
            "_model_module_version": "1.5.0",
            "value": " 170499072/? [1:54:19&lt;00:00, 24855.81it/s]",
            "_view_count": null,
            "_view_module_version": "1.5.0",
            "description_tooltip": null,
            "_model_module": "@jupyter-widgets/controls",
            "layout": "IPY_MODEL_0c00704006614a39a623a448aad809e1"
          }
        },
        "1f477c142e03439cabf2bd6648dcbdf4": {
          "model_module": "@jupyter-widgets/controls",
          "model_name": "ProgressStyleModel",
          "state": {
            "_view_name": "StyleView",
            "_model_name": "ProgressStyleModel",
            "description_width": "initial",
            "_view_module": "@jupyter-widgets/base",
            "_model_module_version": "1.5.0",
            "_view_count": null,
            "_view_module_version": "1.2.0",
            "bar_color": null,
            "_model_module": "@jupyter-widgets/controls"
          }
        },
        "d0e67aef81f0402ab79f914b36761fed": {
          "model_module": "@jupyter-widgets/base",
          "model_name": "LayoutModel",
          "state": {
            "_view_name": "LayoutView",
            "grid_template_rows": null,
            "right": null,
            "justify_content": null,
            "_view_module": "@jupyter-widgets/base",
            "overflow": null,
            "_model_module_version": "1.2.0",
            "_view_count": null,
            "flex_flow": null,
            "width": null,
            "min_width": null,
            "border": null,
            "align_items": null,
            "bottom": null,
            "_model_module": "@jupyter-widgets/base",
            "top": null,
            "grid_column": null,
            "overflow_y": null,
            "overflow_x": null,
            "grid_auto_flow": null,
            "grid_area": null,
            "grid_template_columns": null,
            "flex": null,
            "_model_name": "LayoutModel",
            "justify_items": null,
            "grid_row": null,
            "max_height": null,
            "align_content": null,
            "visibility": null,
            "align_self": null,
            "height": null,
            "min_height": null,
            "padding": null,
            "grid_auto_rows": null,
            "grid_gap": null,
            "max_width": null,
            "order": null,
            "_view_module_version": "1.2.0",
            "grid_template_areas": null,
            "object_position": null,
            "object_fit": null,
            "grid_auto_columns": null,
            "margin": null,
            "display": null,
            "left": null
          }
        },
        "78b1b7db6173483b9294dc6792480739": {
          "model_module": "@jupyter-widgets/controls",
          "model_name": "DescriptionStyleModel",
          "state": {
            "_view_name": "StyleView",
            "_model_name": "DescriptionStyleModel",
            "description_width": "",
            "_view_module": "@jupyter-widgets/base",
            "_model_module_version": "1.5.0",
            "_view_count": null,
            "_view_module_version": "1.2.0",
            "_model_module": "@jupyter-widgets/controls"
          }
        },
        "0c00704006614a39a623a448aad809e1": {
          "model_module": "@jupyter-widgets/base",
          "model_name": "LayoutModel",
          "state": {
            "_view_name": "LayoutView",
            "grid_template_rows": null,
            "right": null,
            "justify_content": null,
            "_view_module": "@jupyter-widgets/base",
            "overflow": null,
            "_model_module_version": "1.2.0",
            "_view_count": null,
            "flex_flow": null,
            "width": null,
            "min_width": null,
            "border": null,
            "align_items": null,
            "bottom": null,
            "_model_module": "@jupyter-widgets/base",
            "top": null,
            "grid_column": null,
            "overflow_y": null,
            "overflow_x": null,
            "grid_auto_flow": null,
            "grid_area": null,
            "grid_template_columns": null,
            "flex": null,
            "_model_name": "LayoutModel",
            "justify_items": null,
            "grid_row": null,
            "max_height": null,
            "align_content": null,
            "visibility": null,
            "align_self": null,
            "height": null,
            "min_height": null,
            "padding": null,
            "grid_auto_rows": null,
            "grid_gap": null,
            "max_width": null,
            "order": null,
            "_view_module_version": "1.2.0",
            "grid_template_areas": null,
            "object_position": null,
            "object_fit": null,
            "grid_auto_columns": null,
            "margin": null,
            "display": null,
            "left": null
          }
        }
      }
    }
  },
  "cells": [
    {
      "cell_type": "code",
      "metadata": {
        "id": "Rigs0jK5Etv0"
      },
      "source": [
        "%matplotlib inline\n",
        "from matplotlib import pyplot as plt\n",
        "import numpy as np\n",
        "import collections\n",
        "\n",
        "import torch\n",
        "import torch.nn as nn\n",
        "import torch.nn.functional as F\n",
        "import torch.optim as optim"
      ],
      "execution_count": 1,
      "outputs": []
    },
    {
      "cell_type": "code",
      "metadata": {
        "id": "vl0M_P0ME7Xx"
      },
      "source": [
        "class_names = ['airplane','automobile','bird','cat','deer',\n",
        "               'dog','frog','horse','ship','truck']"
      ],
      "execution_count": 2,
      "outputs": []
    },
    {
      "cell_type": "code",
      "metadata": {
        "colab": {
          "base_uri": "https://localhost:8080/",
          "height": 101,
          "referenced_widgets": [
            "1e8c05e707c141fea501212db7d1ab8c",
            "d72c94b6dc18468f832d2e1f355a6928",
            "0d95a5912d3041528bc8b089d39cdd49",
            "b220f3077cbc45fd8e0305c322d86bda",
            "1f477c142e03439cabf2bd6648dcbdf4",
            "d0e67aef81f0402ab79f914b36761fed",
            "78b1b7db6173483b9294dc6792480739",
            "0c00704006614a39a623a448aad809e1"
          ]
        },
        "id": "ldIumvC2FDK7",
        "outputId": "e6f4a57f-81a1-4de6-a6e0-5860302f02b5"
      },
      "source": [
        "from torchvision import datasets, transforms\n",
        "data_path = '/data-unversioned/p1ch6/'\n",
        "cifar10 = datasets.CIFAR10(\n",
        "    data_path, train=True, download=True,\n",
        "    transform=transforms.Compose([\n",
        "        transforms.RandomCrop(size=[32,32], padding=4),                        \n",
        "        transforms.ToTensor(),\n",
        "        transforms.Normalize((0.4915, 0.4823, 0.4468),\n",
        "                             (0.2470, 0.2435, 0.2616))\n",
        "    ]))"
      ],
      "execution_count": 3,
      "outputs": [
        {
          "output_type": "stream",
          "text": [
            "Downloading https://www.cs.toronto.edu/~kriz/cifar-10-python.tar.gz to /data-unversioned/p1ch6/cifar-10-python.tar.gz\n"
          ],
          "name": "stdout"
        },
        {
          "output_type": "display_data",
          "data": {
            "application/vnd.jupyter.widget-view+json": {
              "model_id": "1e8c05e707c141fea501212db7d1ab8c",
              "version_minor": 0,
              "version_major": 2
            },
            "text/plain": [
              "HBox(children=(FloatProgress(value=0.0, max=170498071.0), HTML(value='')))"
            ]
          },
          "metadata": {
            "tags": []
          }
        },
        {
          "output_type": "stream",
          "text": [
            "\n",
            "Extracting /data-unversioned/p1ch6/cifar-10-python.tar.gz to /data-unversioned/p1ch6/\n"
          ],
          "name": "stdout"
        }
      ]
    },
    {
      "cell_type": "code",
      "metadata": {
        "colab": {
          "base_uri": "https://localhost:8080/"
        },
        "id": "6AAwQzSYFJsF",
        "outputId": "97947a4c-0470-41ce-df21-f6a655dd8a3d"
      },
      "source": [
        "cifar10_val = datasets.CIFAR10(\n",
        "    data_path, train=False, download=True,\n",
        "    transform=transforms.Compose([\n",
        "        transforms.ToTensor(),\n",
        "        transforms.Normalize((0.4915, 0.4823, 0.4468),\n",
        "                             (0.2470, 0.2435, 0.2616))\n",
        "    ]))"
      ],
      "execution_count": 4,
      "outputs": [
        {
          "output_type": "stream",
          "text": [
            "Files already downloaded and verified\n"
          ],
          "name": "stdout"
        }
      ]
    },
    {
      "cell_type": "code",
      "metadata": {
        "id": "S_4n_0GMFNAG"
      },
      "source": [
        "class resblock(nn.Module):\n",
        "    def __init__(self, n):\n",
        "        super(resblock, self).__init__()\n",
        "        self.conv = nn.Conv2d(n, n, kernel_size=3,\n",
        "                              padding=1, bias=False)  \n",
        "        self.batch_norm = nn.BatchNorm2d(num_features=n)\n",
        "\n",
        "        torch.nn.init.kaiming_normal_(self.conv.weight,\n",
        "                                      nonlinearity='relu')  \n",
        "        torch.nn.init.constant_(self.batch_norm.weight, 0.5)\n",
        "        torch.nn.init.zeros_(self.batch_norm.bias)\n",
        "\n",
        "    def forward(self, x):\n",
        "        out = self.conv(x)\n",
        "        out = self.batch_norm(out)\n",
        "        out = torch.relu(out)\n",
        "        return out + x"
      ],
      "execution_count": 5,
      "outputs": []
    },
    {
      "cell_type": "code",
      "metadata": {
        "id": "otBQ6VLgFRcW"
      },
      "source": [
        "class deep(nn.Module):\n",
        "    def __init__(self, n1=32, n_blocks=10):\n",
        "        super().__init__()\n",
        "        self.n1 = n1\n",
        "        self.conv1 = nn.Conv2d(3, n1, kernel_size=3, padding=1)\n",
        "        self.conv2 = nn.Conv2d(n1, 2*n1, kernel_size=3, padding=1)\n",
        "        self.conv3 = nn.Conv2d(2*n1, 4*n1, kernel_size=3, padding=1)\n",
        "        self.resblocks = nn.Sequential(\n",
        "            *(n_blocks * [resblock(n=n1)]))\n",
        "        self.resblocks2 = nn.Sequential(\n",
        "            *(n_blocks * [resblock(n=n1*2)]))\n",
        "        self.resblocks3 = nn.Sequential(\n",
        "            *(n_blocks * [resblock(n=n1*4)]))\n",
        "        self.fc1 = nn.Linear(8 * 8 * n1*4, 32)\n",
        "        self.fc2 = nn.Linear(32, 16)\n",
        "        self.fc3 = nn.Linear(16, 10)\n",
        "        \n",
        "    def forward(self, x):\n",
        "        out = torch.relu(self.conv1(x))\n",
        "        out = self.resblocks(out)\n",
        "        out = F.max_pool2d(out, 2) \n",
        "        out = self.conv2(out)\n",
        "        out = self.resblocks2(out)\n",
        "        out = F.max_pool2d(out, 2) \n",
        "        out = self.conv3(out)\n",
        "        out = self.resblocks3(out)\n",
        "        out = out.view(-1, 8 * 8 * self.n1*4)\n",
        "        out = torch.relu(self.fc1(out))\n",
        "        out = torch.relu(self.fc2(out))\n",
        "        out = self.fc3(out)\n",
        "        return out"
      ],
      "execution_count": 6,
      "outputs": []
    },
    {
      "cell_type": "code",
      "metadata": {
        "colab": {
          "base_uri": "https://localhost:8080/"
        },
        "id": "6ZeCQGIFFi7a",
        "outputId": "1a9f4e5f-c692-4c58-fdea-bd3343aa8ed6"
      },
      "source": [
        "device = (torch.device('cuda') if torch.cuda.is_available()\n",
        "          else torch.device('cpu'))\n",
        "print(f\"Training on device {device}.\")"
      ],
      "execution_count": 7,
      "outputs": [
        {
          "output_type": "stream",
          "text": [
            "Training on device cuda.\n"
          ],
          "name": "stdout"
        }
      ]
    },
    {
      "cell_type": "code",
      "metadata": {
        "id": "bbp0yLVXFmW5"
      },
      "source": [
        "import datetime\n",
        "\n",
        "def training_loop(n_epochs, optimizer, model, loss_fn, train_loader):\n",
        "    for epoch in range(1, n_epochs + 1):\n",
        "        loss_train = 0.0\n",
        "        for imgs, labels in train_loader:\n",
        "            imgs = imgs.to(device=device)  # <1>\n",
        "            labels = labels.to(device=device)\n",
        "            outputs = model(imgs)\n",
        "            loss = loss_fn(outputs, labels)\n",
        "\n",
        "            optimizer.zero_grad()\n",
        "            loss.backward()\n",
        "            optimizer.step()\n",
        "\n",
        "            loss_train += loss.item()\n",
        "\n",
        "        \n",
        "        print('{} Epoch {}, Training loss {}'.format(\n",
        "            datetime.datetime.now(), epoch,\n",
        "            loss_train / len(train_loader)))"
      ],
      "execution_count": 8,
      "outputs": []
    },
    {
      "cell_type": "code",
      "metadata": {
        "id": "G-7t1jkEF2ov"
      },
      "source": [
        "train_loader = torch.utils.data.DataLoader(cifar10, batch_size=64,\n",
        "                                           shuffle=True)\n",
        "\n",
        "model =  deep().to(device=device)# <1>\n",
        "optimizer = optim.SGD(model.parameters(), lr=1e-2)\n",
        "loss_fn = nn.CrossEntropyLoss()"
      ],
      "execution_count": 9,
      "outputs": []
    },
    {
      "cell_type": "code",
      "metadata": {
        "colab": {
          "base_uri": "https://localhost:8080/"
        },
        "id": "E3lvp1vJGDza",
        "outputId": "0bcb1b68-c8de-43ce-af61-b8c3aba627ed"
      },
      "source": [
        "numel_list = [p.numel() for p in model.parameters()]\n",
        "sum(numel_list), numel_list"
      ],
      "execution_count": 10,
      "outputs": [
        {
          "output_type": "execute_result",
          "data": {
            "text/plain": [
              "(550106,\n",
              " [864,\n",
              "  32,\n",
              "  18432,\n",
              "  64,\n",
              "  73728,\n",
              "  128,\n",
              "  9216,\n",
              "  32,\n",
              "  32,\n",
              "  36864,\n",
              "  64,\n",
              "  64,\n",
              "  147456,\n",
              "  128,\n",
              "  128,\n",
              "  262144,\n",
              "  32,\n",
              "  512,\n",
              "  16,\n",
              "  160,\n",
              "  10])"
            ]
          },
          "metadata": {
            "tags": []
          },
          "execution_count": 10
        }
      ]
    },
    {
      "cell_type": "code",
      "metadata": {
        "colab": {
          "base_uri": "https://localhost:8080/"
        },
        "id": "Am2asDUiF9Ng",
        "outputId": "2e8284c9-cd12-472f-823c-40a53eb22113"
      },
      "source": [
        "training_loop(  \n",
        "    n_epochs = 120,\n",
        "    optimizer = optimizer,\n",
        "    model = model,\n",
        "    loss_fn = loss_fn,\n",
        "    train_loader = train_loader,\n",
        ")"
      ],
      "execution_count": 11,
      "outputs": [
        {
          "output_type": "stream",
          "text": [
            "/usr/local/lib/python3.7/dist-packages/torch/nn/functional.py:718: UserWarning: Named tensors and all their associated APIs are an experimental feature and subject to change. Please do not use them for anything important until they are released as stable. (Triggered internally at  /pytorch/c10/core/TensorImpl.h:1156.)\n",
            "  return torch.max_pool2d(input, kernel_size, stride, padding, dilation, ceil_mode)\n"
          ],
          "name": "stderr"
        },
        {
          "output_type": "stream",
          "text": [
            "2021-07-29 01:27:02.471632 Epoch 1, Training loss 1.6422754122168206\n",
            "2021-07-29 01:27:59.010880 Epoch 2, Training loss 1.2976933411320153\n",
            "2021-07-29 01:28:55.709591 Epoch 3, Training loss 1.111542597908498\n",
            "2021-07-29 01:29:52.204132 Epoch 4, Training loss 0.9975588881146268\n",
            "2021-07-29 01:30:48.819054 Epoch 5, Training loss 0.9062440858015319\n",
            "2021-07-29 01:31:44.997942 Epoch 6, Training loss 0.8485212753648343\n",
            "2021-07-29 01:32:41.886670 Epoch 7, Training loss 0.7981090415316774\n",
            "2021-07-29 01:33:38.348687 Epoch 8, Training loss 0.7584562593561304\n",
            "2021-07-29 01:34:34.891318 Epoch 9, Training loss 0.7279200221952575\n",
            "2021-07-29 01:35:31.089570 Epoch 10, Training loss 0.6872501747916117\n",
            "2021-07-29 01:36:27.384306 Epoch 11, Training loss 0.6666053393307854\n",
            "2021-07-29 01:37:24.279359 Epoch 12, Training loss 0.6398356780600365\n",
            "2021-07-29 01:38:20.608371 Epoch 13, Training loss 0.6074812681321293\n",
            "2021-07-29 01:39:16.801910 Epoch 14, Training loss 0.5955316850062832\n",
            "2021-07-29 01:40:13.177254 Epoch 15, Training loss 0.5788579977610532\n",
            "2021-07-29 01:41:09.591393 Epoch 16, Training loss 0.5519363071455066\n",
            "2021-07-29 01:42:06.087334 Epoch 17, Training loss 0.5375897635698623\n",
            "2021-07-29 01:43:02.506798 Epoch 18, Training loss 0.52228691106867\n",
            "2021-07-29 01:43:58.902182 Epoch 19, Training loss 0.5075647218338669\n",
            "2021-07-29 01:44:55.562175 Epoch 20, Training loss 0.49667711799864267\n",
            "2021-07-29 01:45:52.065137 Epoch 21, Training loss 0.4749876049435352\n",
            "2021-07-29 01:46:48.601312 Epoch 22, Training loss 0.4646277666816016\n",
            "2021-07-29 01:47:44.872884 Epoch 23, Training loss 0.45600985150660395\n",
            "2021-07-29 01:48:41.598061 Epoch 24, Training loss 0.4433803178770158\n",
            "2021-07-29 01:49:38.070788 Epoch 25, Training loss 0.4339532686202118\n",
            "2021-07-29 01:50:34.360793 Epoch 26, Training loss 0.4190565337572256\n",
            "2021-07-29 01:51:30.622906 Epoch 27, Training loss 0.41104126453895096\n",
            "2021-07-29 01:52:26.979130 Epoch 28, Training loss 0.40038995452396703\n",
            "2021-07-29 01:53:23.604733 Epoch 29, Training loss 0.3944383199181398\n",
            "2021-07-29 01:54:20.525551 Epoch 30, Training loss 0.3825257778205835\n",
            "2021-07-29 01:55:16.878726 Epoch 31, Training loss 0.373945350365718\n",
            "2021-07-29 01:56:13.312671 Epoch 32, Training loss 0.36876593937959207\n",
            "2021-07-29 01:57:09.859617 Epoch 33, Training loss 0.357096585871466\n",
            "2021-07-29 01:58:06.492548 Epoch 34, Training loss 0.34924637737786374\n",
            "2021-07-29 01:59:03.037546 Epoch 35, Training loss 0.34436361123914916\n",
            "2021-07-29 01:59:59.566658 Epoch 36, Training loss 0.3374629936578786\n",
            "2021-07-29 02:00:56.143083 Epoch 37, Training loss 0.3310115167875881\n",
            "2021-07-29 02:01:52.573809 Epoch 38, Training loss 0.32471002785064984\n",
            "2021-07-29 02:02:49.011474 Epoch 39, Training loss 0.3195706744156683\n",
            "2021-07-29 02:03:45.403646 Epoch 40, Training loss 0.31580334950400435\n",
            "2021-07-29 02:04:41.870174 Epoch 41, Training loss 0.30744729302537716\n",
            "2021-07-29 02:05:38.664156 Epoch 42, Training loss 0.3000943778401903\n",
            "2021-07-29 02:06:35.294899 Epoch 43, Training loss 0.29359990850929407\n",
            "2021-07-29 02:07:31.546574 Epoch 44, Training loss 0.2901134072324199\n",
            "2021-07-29 02:08:27.863374 Epoch 45, Training loss 0.28490883030016406\n",
            "2021-07-29 02:09:24.355423 Epoch 46, Training loss 0.28048660557555116\n",
            "2021-07-29 02:10:21.129494 Epoch 47, Training loss 0.2736403103489095\n",
            "2021-07-29 02:11:17.355535 Epoch 48, Training loss 0.26793544140198955\n",
            "2021-07-29 02:12:13.601309 Epoch 49, Training loss 0.2652665701268427\n",
            "2021-07-29 02:13:10.127409 Epoch 50, Training loss 0.26297829300165176\n",
            "2021-07-29 02:14:06.824480 Epoch 51, Training loss 0.2542383914618084\n",
            "2021-07-29 02:15:03.145170 Epoch 52, Training loss 0.2514947270474318\n",
            "2021-07-29 02:15:59.430125 Epoch 53, Training loss 0.24245688981374205\n",
            "2021-07-29 02:16:55.998769 Epoch 54, Training loss 0.23836805187451565\n",
            "2021-07-29 02:17:52.273863 Epoch 55, Training loss 0.23734187412902216\n",
            "2021-07-29 02:18:48.630433 Epoch 56, Training loss 0.23438284320332814\n",
            "2021-07-29 02:19:45.015671 Epoch 57, Training loss 0.22849639559455234\n",
            "2021-07-29 02:20:41.189805 Epoch 58, Training loss 0.22837325394668084\n",
            "2021-07-29 02:21:37.841057 Epoch 59, Training loss 0.22183153771168893\n",
            "2021-07-29 02:22:34.237750 Epoch 60, Training loss 0.22213039230888762\n",
            "2021-07-29 02:23:30.503598 Epoch 61, Training loss 0.2167690908321944\n",
            "2021-07-29 02:24:26.852308 Epoch 62, Training loss 0.21252111777129684\n",
            "2021-07-29 02:25:23.310226 Epoch 63, Training loss 0.21324670785452093\n",
            "2021-07-29 02:26:20.221196 Epoch 64, Training loss 0.20804675494599373\n",
            "2021-07-29 02:27:16.406937 Epoch 65, Training loss 0.20082401616446427\n",
            "2021-07-29 02:28:12.555466 Epoch 66, Training loss 0.20798294806419432\n",
            "2021-07-29 02:29:08.927159 Epoch 67, Training loss 0.1945438570035693\n",
            "2021-07-29 02:30:05.267978 Epoch 68, Training loss 0.1973566759801696\n",
            "2021-07-29 02:31:01.681528 Epoch 69, Training loss 0.18932801459098944\n",
            "2021-07-29 02:31:58.056602 Epoch 70, Training loss 0.1859839293210174\n",
            "2021-07-29 02:32:54.548528 Epoch 71, Training loss 0.18850684700214573\n",
            "2021-07-29 02:33:50.861869 Epoch 72, Training loss 0.18618795172313748\n",
            "2021-07-29 02:34:47.211806 Epoch 73, Training loss 0.18238239156087035\n",
            "2021-07-29 02:35:43.501212 Epoch 74, Training loss 0.17411451905851474\n",
            "2021-07-29 02:36:39.791319 Epoch 75, Training loss 0.17613384890539185\n",
            "2021-07-29 02:37:36.478366 Epoch 76, Training loss 0.17571459782531346\n",
            "2021-07-29 02:38:32.875632 Epoch 77, Training loss 0.1718316255851894\n",
            "2021-07-29 02:39:29.145085 Epoch 78, Training loss 0.17070608881666607\n",
            "2021-07-29 02:40:25.526112 Epoch 79, Training loss 0.16552639455841783\n",
            "2021-07-29 02:41:22.258973 Epoch 80, Training loss 0.16964405001191152\n",
            "2021-07-29 02:42:18.882448 Epoch 81, Training loss 0.1618364816722091\n",
            "2021-07-29 02:43:15.718593 Epoch 82, Training loss 0.1609456220646496\n",
            "2021-07-29 02:44:12.202549 Epoch 83, Training loss 0.16102313372732885\n",
            "2021-07-29 02:45:08.946792 Epoch 84, Training loss 0.15166850197021767\n",
            "2021-07-29 02:46:05.727187 Epoch 85, Training loss 0.15059859074575974\n",
            "2021-07-29 02:47:02.488597 Epoch 86, Training loss 0.14994304107211512\n",
            "2021-07-29 02:47:59.153557 Epoch 87, Training loss 0.14673069079437523\n",
            "2021-07-29 02:48:55.736468 Epoch 88, Training loss 0.15324735409006132\n",
            "2021-07-29 02:49:52.264424 Epoch 89, Training loss 0.14498512508690625\n",
            "2021-07-29 02:50:48.685528 Epoch 90, Training loss 0.14362264744332418\n",
            "2021-07-29 02:51:45.146177 Epoch 91, Training loss 0.14015815743123708\n",
            "2021-07-29 02:52:41.360267 Epoch 92, Training loss 0.14008497517994223\n",
            "2021-07-29 02:53:37.634183 Epoch 93, Training loss 0.13839882202065357\n",
            "2021-07-29 02:54:34.463147 Epoch 94, Training loss 0.13786281815841986\n",
            "2021-07-29 02:55:30.802865 Epoch 95, Training loss 0.13614640151962754\n",
            "2021-07-29 02:56:27.197136 Epoch 96, Training loss 0.13497829455120103\n",
            "2021-07-29 02:57:23.461726 Epoch 97, Training loss 0.13313007830044307\n",
            "2021-07-29 02:58:19.963491 Epoch 98, Training loss 0.13199432559139893\n",
            "2021-07-29 02:59:16.795329 Epoch 99, Training loss 0.13361561887533122\n",
            "2021-07-29 03:00:13.039213 Epoch 100, Training loss 0.1276438464696431\n",
            "2021-07-29 03:01:09.442789 Epoch 101, Training loss 0.12936888108997013\n",
            "2021-07-29 03:02:06.137870 Epoch 102, Training loss 0.12669482643423063\n",
            "2021-07-29 03:03:02.683150 Epoch 103, Training loss 0.11858645064608596\n",
            "2021-07-29 03:03:59.083665 Epoch 104, Training loss 0.12355599765156103\n",
            "2021-07-29 03:04:55.488275 Epoch 105, Training loss 0.11953582237843814\n",
            "2021-07-29 03:05:52.279114 Epoch 106, Training loss 0.11816796727116456\n",
            "2021-07-29 03:06:48.610403 Epoch 107, Training loss 0.11927338558203919\n",
            "2021-07-29 03:07:45.062039 Epoch 108, Training loss 0.12310492319276418\n",
            "2021-07-29 03:08:41.293170 Epoch 109, Training loss 0.11760845745954177\n",
            "2021-07-29 03:09:37.428565 Epoch 110, Training loss 0.11133275617061712\n",
            "2021-07-29 03:10:33.975630 Epoch 111, Training loss 0.11312981785984848\n",
            "2021-07-29 03:11:30.406159 Epoch 112, Training loss 0.11108194062452945\n",
            "2021-07-29 03:12:26.770323 Epoch 113, Training loss 0.11033665294499348\n",
            "2021-07-29 03:13:23.067711 Epoch 114, Training loss 0.10445849804083823\n",
            "2021-07-29 03:14:19.540596 Epoch 115, Training loss 0.10807867366772936\n",
            "2021-07-29 03:15:16.167082 Epoch 116, Training loss 0.10532102232817989\n",
            "2021-07-29 03:16:12.652346 Epoch 117, Training loss 0.10985906012213367\n",
            "2021-07-29 03:17:08.894879 Epoch 118, Training loss 0.10279721796841305\n",
            "2021-07-29 03:18:05.627112 Epoch 119, Training loss 0.1016644407480555\n",
            "2021-07-29 03:19:02.027063 Epoch 120, Training loss 0.10544506992008584\n"
          ],
          "name": "stdout"
        }
      ]
    },
    {
      "cell_type": "code",
      "metadata": {
        "id": "8W884uopWebn"
      },
      "source": [
        "torch.save(model.state_dict(), r'C:\\Users\\hp\\Desktop\\me\\resnet20.pt')\n"
      ],
      "execution_count": null,
      "outputs": []
    },
    {
      "cell_type": "code",
      "metadata": {
        "colab": {
          "base_uri": "https://localhost:8080/"
        },
        "id": "pechtawvXO8r",
        "outputId": "7044021b-5997-4a8f-d9d6-7318139504de"
      },
      "source": [
        "train_loader = torch.utils.data.DataLoader(cifar10, batch_size=64,\n",
        "                                           shuffle=False)\n",
        "val_loader = torch.utils.data.DataLoader(cifar10_val, batch_size=64,\n",
        "                                         shuffle=False)\n",
        "\n",
        "def validate(model, train_loader, val_loader):\n",
        "    for name, loader in [(\"train\", train_loader), (\"val\", val_loader)]:\n",
        "        correct = 0\n",
        "        total = 0\n",
        "\n",
        "        with torch.no_grad():  # <1>\n",
        "            for imgs, labels in loader:\n",
        "                imgs = imgs.to(device=device)\n",
        "                labels = labels.to(device=device)\n",
        "                outputs = model(imgs)\n",
        "                _, predicted = torch.max(outputs, dim=1) # <2>\n",
        "                total += labels.shape[0]  # <3>\n",
        "                correct += int((predicted == labels).sum())  # <4>\n",
        "\n",
        "        print(\"Accuracy {}: {:.2f}\".format(name , correct / total))\n",
        "\n",
        "validate(model, train_loader, val_loader)"
      ],
      "execution_count": 12,
      "outputs": [
        {
          "output_type": "stream",
          "text": [
            "Accuracy train: 0.97\n",
            "Accuracy val: 0.84\n"
          ],
          "name": "stdout"
        }
      ]
    }
  ]
}