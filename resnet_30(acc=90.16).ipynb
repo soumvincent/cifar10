{
  "nbformat": 4,
  "nbformat_minor": 0,
  "metadata": {
    "colab": {
      "name": "resnet_30.ipynb",
      "provenance": [],
      "collapsed_sections": []
    },
    "kernelspec": {
      "name": "python3",
      "display_name": "Python 3"
    },
    "language_info": {
      "name": "python"
    },
    "accelerator": "GPU",
    "widgets": {
      "application/vnd.jupyter.widget-state+json": {
        "c281706d4d624e86b3774562e999ad2a": {
          "model_module": "@jupyter-widgets/controls",
          "model_name": "HBoxModel",
          "state": {
            "_view_name": "HBoxView",
            "_dom_classes": [],
            "_model_name": "HBoxModel",
            "_view_module": "@jupyter-widgets/controls",
            "_model_module_version": "1.5.0",
            "_view_count": null,
            "_view_module_version": "1.5.0",
            "box_style": "",
            "layout": "IPY_MODEL_f7eb6b59709540cf8336a6f7c3244d43",
            "_model_module": "@jupyter-widgets/controls",
            "children": [
              "IPY_MODEL_73f482a02e7d4e9ba65b2225ea7d3f31",
              "IPY_MODEL_29546a1122eb42cabad242813fe460d4"
            ]
          }
        },
        "f7eb6b59709540cf8336a6f7c3244d43": {
          "model_module": "@jupyter-widgets/base",
          "model_name": "LayoutModel",
          "state": {
            "_view_name": "LayoutView",
            "grid_template_rows": null,
            "right": null,
            "justify_content": null,
            "_view_module": "@jupyter-widgets/base",
            "overflow": null,
            "_model_module_version": "1.2.0",
            "_view_count": null,
            "flex_flow": null,
            "width": null,
            "min_width": null,
            "border": null,
            "align_items": null,
            "bottom": null,
            "_model_module": "@jupyter-widgets/base",
            "top": null,
            "grid_column": null,
            "overflow_y": null,
            "overflow_x": null,
            "grid_auto_flow": null,
            "grid_area": null,
            "grid_template_columns": null,
            "flex": null,
            "_model_name": "LayoutModel",
            "justify_items": null,
            "grid_row": null,
            "max_height": null,
            "align_content": null,
            "visibility": null,
            "align_self": null,
            "height": null,
            "min_height": null,
            "padding": null,
            "grid_auto_rows": null,
            "grid_gap": null,
            "max_width": null,
            "order": null,
            "_view_module_version": "1.2.0",
            "grid_template_areas": null,
            "object_position": null,
            "object_fit": null,
            "grid_auto_columns": null,
            "margin": null,
            "display": null,
            "left": null
          }
        },
        "73f482a02e7d4e9ba65b2225ea7d3f31": {
          "model_module": "@jupyter-widgets/controls",
          "model_name": "FloatProgressModel",
          "state": {
            "_view_name": "ProgressView",
            "style": "IPY_MODEL_6e75f0d7147743578ea8e46829ec0246",
            "_dom_classes": [],
            "description": "",
            "_model_name": "FloatProgressModel",
            "bar_style": "success",
            "max": 170498071,
            "_view_module": "@jupyter-widgets/controls",
            "_model_module_version": "1.5.0",
            "value": 170498071,
            "_view_count": null,
            "_view_module_version": "1.5.0",
            "orientation": "horizontal",
            "min": 0,
            "description_tooltip": null,
            "_model_module": "@jupyter-widgets/controls",
            "layout": "IPY_MODEL_4f05a6ade621447fb3eeaff7b733372b"
          }
        },
        "29546a1122eb42cabad242813fe460d4": {
          "model_module": "@jupyter-widgets/controls",
          "model_name": "HTMLModel",
          "state": {
            "_view_name": "HTMLView",
            "style": "IPY_MODEL_519d628fd5704ff6a4778218de553c60",
            "_dom_classes": [],
            "description": "",
            "_model_name": "HTMLModel",
            "placeholder": "​",
            "_view_module": "@jupyter-widgets/controls",
            "_model_module_version": "1.5.0",
            "value": " 170499072/? [1:40:30&lt;00:00, 28271.27it/s]",
            "_view_count": null,
            "_view_module_version": "1.5.0",
            "description_tooltip": null,
            "_model_module": "@jupyter-widgets/controls",
            "layout": "IPY_MODEL_576e38a70b5744ad8647634f63b82d73"
          }
        },
        "6e75f0d7147743578ea8e46829ec0246": {
          "model_module": "@jupyter-widgets/controls",
          "model_name": "ProgressStyleModel",
          "state": {
            "_view_name": "StyleView",
            "_model_name": "ProgressStyleModel",
            "description_width": "initial",
            "_view_module": "@jupyter-widgets/base",
            "_model_module_version": "1.5.0",
            "_view_count": null,
            "_view_module_version": "1.2.0",
            "bar_color": null,
            "_model_module": "@jupyter-widgets/controls"
          }
        },
        "4f05a6ade621447fb3eeaff7b733372b": {
          "model_module": "@jupyter-widgets/base",
          "model_name": "LayoutModel",
          "state": {
            "_view_name": "LayoutView",
            "grid_template_rows": null,
            "right": null,
            "justify_content": null,
            "_view_module": "@jupyter-widgets/base",
            "overflow": null,
            "_model_module_version": "1.2.0",
            "_view_count": null,
            "flex_flow": null,
            "width": null,
            "min_width": null,
            "border": null,
            "align_items": null,
            "bottom": null,
            "_model_module": "@jupyter-widgets/base",
            "top": null,
            "grid_column": null,
            "overflow_y": null,
            "overflow_x": null,
            "grid_auto_flow": null,
            "grid_area": null,
            "grid_template_columns": null,
            "flex": null,
            "_model_name": "LayoutModel",
            "justify_items": null,
            "grid_row": null,
            "max_height": null,
            "align_content": null,
            "visibility": null,
            "align_self": null,
            "height": null,
            "min_height": null,
            "padding": null,
            "grid_auto_rows": null,
            "grid_gap": null,
            "max_width": null,
            "order": null,
            "_view_module_version": "1.2.0",
            "grid_template_areas": null,
            "object_position": null,
            "object_fit": null,
            "grid_auto_columns": null,
            "margin": null,
            "display": null,
            "left": null
          }
        },
        "519d628fd5704ff6a4778218de553c60": {
          "model_module": "@jupyter-widgets/controls",
          "model_name": "DescriptionStyleModel",
          "state": {
            "_view_name": "StyleView",
            "_model_name": "DescriptionStyleModel",
            "description_width": "",
            "_view_module": "@jupyter-widgets/base",
            "_model_module_version": "1.5.0",
            "_view_count": null,
            "_view_module_version": "1.2.0",
            "_model_module": "@jupyter-widgets/controls"
          }
        },
        "576e38a70b5744ad8647634f63b82d73": {
          "model_module": "@jupyter-widgets/base",
          "model_name": "LayoutModel",
          "state": {
            "_view_name": "LayoutView",
            "grid_template_rows": null,
            "right": null,
            "justify_content": null,
            "_view_module": "@jupyter-widgets/base",
            "overflow": null,
            "_model_module_version": "1.2.0",
            "_view_count": null,
            "flex_flow": null,
            "width": null,
            "min_width": null,
            "border": null,
            "align_items": null,
            "bottom": null,
            "_model_module": "@jupyter-widgets/base",
            "top": null,
            "grid_column": null,
            "overflow_y": null,
            "overflow_x": null,
            "grid_auto_flow": null,
            "grid_area": null,
            "grid_template_columns": null,
            "flex": null,
            "_model_name": "LayoutModel",
            "justify_items": null,
            "grid_row": null,
            "max_height": null,
            "align_content": null,
            "visibility": null,
            "align_self": null,
            "height": null,
            "min_height": null,
            "padding": null,
            "grid_auto_rows": null,
            "grid_gap": null,
            "max_width": null,
            "order": null,
            "_view_module_version": "1.2.0",
            "grid_template_areas": null,
            "object_position": null,
            "object_fit": null,
            "grid_auto_columns": null,
            "margin": null,
            "display": null,
            "left": null
          }
        }
      }
    }
  },
  "cells": [
    {
      "cell_type": "code",
      "metadata": {
        "id": "Rigs0jK5Etv0"
      },
      "source": [
        "%matplotlib inline\n",
        "from matplotlib import pyplot as plt\n",
        "import numpy as np\n",
        "import collections\n",
        "\n",
        "import torch\n",
        "import torch.nn as nn\n",
        "import torch.nn.functional as F\n",
        "import torch.optim as optim"
      ],
      "execution_count": 1,
      "outputs": []
    },
    {
      "cell_type": "code",
      "metadata": {
        "id": "vl0M_P0ME7Xx"
      },
      "source": [
        "class_names = ['airplane','automobile','bird','cat','deer',\n",
        "               'dog','frog','horse','ship','truck']"
      ],
      "execution_count": 2,
      "outputs": []
    },
    {
      "cell_type": "code",
      "metadata": {
        "colab": {
          "base_uri": "https://localhost:8080/",
          "height": 101,
          "referenced_widgets": [
            "c281706d4d624e86b3774562e999ad2a",
            "f7eb6b59709540cf8336a6f7c3244d43",
            "73f482a02e7d4e9ba65b2225ea7d3f31",
            "29546a1122eb42cabad242813fe460d4",
            "6e75f0d7147743578ea8e46829ec0246",
            "4f05a6ade621447fb3eeaff7b733372b",
            "519d628fd5704ff6a4778218de553c60",
            "576e38a70b5744ad8647634f63b82d73"
          ]
        },
        "id": "ldIumvC2FDK7",
        "outputId": "6574b5ee-8713-483d-d207-06515809a346"
      },
      "source": [
        "from torchvision import datasets, transforms\n",
        "data_path = '/data-unversioned/p1ch6/'\n",
        "cifar10 = datasets.CIFAR10(\n",
        "    data_path, train=True, download=True,\n",
        "    transform=transforms.Compose([\n",
        "        transforms.RandomCrop(size=[32,32], padding=4),\n",
        "        transforms.RandomHorizontalFlip(),                       \n",
        "        transforms.ToTensor(),\n",
        "        transforms.Normalize((0.4915, 0.4823, 0.4468),\n",
        "                             (0.2470, 0.2435, 0.2616))\n",
        "    ]))"
      ],
      "execution_count": 3,
      "outputs": [
        {
          "output_type": "stream",
          "text": [
            "Downloading https://www.cs.toronto.edu/~kriz/cifar-10-python.tar.gz to /data-unversioned/p1ch6/cifar-10-python.tar.gz\n"
          ],
          "name": "stdout"
        },
        {
          "output_type": "display_data",
          "data": {
            "application/vnd.jupyter.widget-view+json": {
              "model_id": "c281706d4d624e86b3774562e999ad2a",
              "version_minor": 0,
              "version_major": 2
            },
            "text/plain": [
              "HBox(children=(FloatProgress(value=0.0, max=170498071.0), HTML(value='')))"
            ]
          },
          "metadata": {
            "tags": []
          }
        },
        {
          "output_type": "stream",
          "text": [
            "\n",
            "Extracting /data-unversioned/p1ch6/cifar-10-python.tar.gz to /data-unversioned/p1ch6/\n"
          ],
          "name": "stdout"
        }
      ]
    },
    {
      "cell_type": "code",
      "metadata": {
        "colab": {
          "base_uri": "https://localhost:8080/"
        },
        "id": "6AAwQzSYFJsF",
        "outputId": "a5972353-e02d-4333-a939-ee926f60ceb4"
      },
      "source": [
        "cifar10_val = datasets.CIFAR10(\n",
        "    data_path, train=False, download=True,\n",
        "    transform=transforms.Compose([\n",
        "        transforms.ToTensor(),\n",
        "        transforms.Normalize((0.4915, 0.4823, 0.4468),\n",
        "                             (0.2470, 0.2435, 0.2616))\n",
        "    ]))"
      ],
      "execution_count": 4,
      "outputs": [
        {
          "output_type": "stream",
          "text": [
            "Files already downloaded and verified\n"
          ],
          "name": "stdout"
        }
      ]
    },
    {
      "cell_type": "code",
      "metadata": {
        "id": "S_4n_0GMFNAG"
      },
      "source": [
        "class resblock(nn.Module):\n",
        "    def __init__(self, n):\n",
        "        super(resblock, self).__init__()\n",
        "        self.conv = nn.Conv2d(n, n, kernel_size=3,\n",
        "                              padding=1, bias=False)  \n",
        "        self.batch_norm = nn.BatchNorm2d(num_features=n)\n",
        "\n",
        "        torch.nn.init.kaiming_normal_(self.conv.weight,\n",
        "                                      nonlinearity='relu')  \n",
        "        torch.nn.init.constant_(self.batch_norm.weight, 0.5)\n",
        "        torch.nn.init.zeros_(self.batch_norm.bias)\n",
        "\n",
        "    def forward(self, x):\n",
        "        out = self.conv(x)\n",
        "        out = self.batch_norm(out)\n",
        "        out = torch.relu(out)\n",
        "        return out + x"
      ],
      "execution_count": 5,
      "outputs": []
    },
    {
      "cell_type": "code",
      "metadata": {
        "id": "otBQ6VLgFRcW"
      },
      "source": [
        "class deep(nn.Module):\n",
        "    def __init__(self, n1=32, n_blocks=10):\n",
        "        super().__init__()\n",
        "        self.n1 = n1\n",
        "        self.conv1 = nn.Conv2d(3, n1, kernel_size=3, padding=1)\n",
        "        self.conv2 = nn.Conv2d(n1, 2*n1, kernel_size=3, padding=1)\n",
        "        self.conv3 = nn.Conv2d(2*n1, 4*n1, kernel_size=3, padding=1)\n",
        "        self.resblocks = nn.Sequential(\n",
        "            *(n_blocks * [resblock(n=n1)]))\n",
        "        self.resblocks2 = nn.Sequential(\n",
        "            *(n_blocks * [resblock(n=n1*2)]))\n",
        "        self.resblocks3 = nn.Sequential(\n",
        "            *(n_blocks * [resblock(n=n1*4)]))\n",
        "        self.fc1 = nn.Linear(8 * 8 * n1*4, 32)\n",
        "        self.fc2 = nn.Linear(32, 16)\n",
        "        self.fc3 = nn.Linear(16, 10)\n",
        "        \n",
        "    def forward(self, x):\n",
        "        out = torch.relu(self.conv1(x))\n",
        "        out = self.resblocks(out)\n",
        "        out = F.max_pool2d(out, 2) \n",
        "        out = self.conv2(out)\n",
        "        out = self.resblocks2(out)\n",
        "        out = F.max_pool2d(out, 2) \n",
        "        out = self.conv3(out)\n",
        "        out = self.resblocks3(out)\n",
        "        out = out.view(-1, 8 * 8 * self.n1*4)\n",
        "        out = torch.relu(self.fc1(out))\n",
        "        out = torch.relu(self.fc2(out))\n",
        "        out = self.fc3(out)\n",
        "        return out"
      ],
      "execution_count": 6,
      "outputs": []
    },
    {
      "cell_type": "code",
      "metadata": {
        "colab": {
          "base_uri": "https://localhost:8080/"
        },
        "id": "6ZeCQGIFFi7a",
        "outputId": "481fdbdd-00ef-4077-cf9f-073f77639c9f"
      },
      "source": [
        "device = (torch.device('cuda') if torch.cuda.is_available()\n",
        "          else torch.device('cpu'))\n",
        "print(f\"Training on device {device}.\")"
      ],
      "execution_count": 7,
      "outputs": [
        {
          "output_type": "stream",
          "text": [
            "Training on device cuda.\n"
          ],
          "name": "stdout"
        }
      ]
    },
    {
      "cell_type": "code",
      "metadata": {
        "id": "bbp0yLVXFmW5"
      },
      "source": [
        "import datetime\n",
        "\n",
        "def training_loop(n_epochs, optimizer, model, loss_fn, train_loader, schedular):\n",
        "    for epoch in range(1, n_epochs + 1):\n",
        "        loss_train = 0.0\n",
        "        for imgs, labels in train_loader:\n",
        "            imgs = imgs.to(device=device)  # <1>\n",
        "            labels = labels.to(device=device)\n",
        "            outputs = model(imgs)\n",
        "            loss = loss_fn(outputs, labels)\n",
        "\n",
        "            optimizer.zero_grad()\n",
        "            loss.backward()\n",
        "            optimizer.step()\n",
        "\n",
        "            loss_train += loss.item()\n",
        "\n",
        "        schedular.step() \n",
        "        print('{} Epoch {}, Training loss {}'.format(\n",
        "            datetime.datetime.now(), epoch,\n",
        "            loss_train / len(train_loader)))"
      ],
      "execution_count": 8,
      "outputs": []
    },
    {
      "cell_type": "code",
      "metadata": {
        "id": "G-7t1jkEF2ov"
      },
      "source": [
        "train_loader = torch.utils.data.DataLoader(cifar10, batch_size=64,\n",
        "                                           shuffle=True)\n",
        "\n",
        "model =  deep().to(device=device)# <1>\n",
        "optimizer = optim.SGD(model.parameters(), lr=1e-2, weight_decay=0.01)\n",
        "schedular = optim.lr_scheduler.MultiStepLR(optimizer, [50,75], gamma=0.1)\n",
        "loss_fn = nn.CrossEntropyLoss()"
      ],
      "execution_count": 9,
      "outputs": []
    },
    {
      "cell_type": "code",
      "metadata": {
        "id": "CtF2rkBJWOjC",
        "colab": {
          "base_uri": "https://localhost:8080/"
        },
        "outputId": "bfb46e2c-6684-4318-9ead-736696efca8f"
      },
      "source": [
        "from torchsummary import summary\n",
        "summary(model,(3,32,32))"
      ],
      "execution_count": 10,
      "outputs": [
        {
          "output_type": "stream",
          "text": [
            "----------------------------------------------------------------\n",
            "        Layer (type)               Output Shape         Param #\n",
            "================================================================\n",
            "            Conv2d-1           [-1, 32, 32, 32]             896\n",
            "            Conv2d-2           [-1, 32, 32, 32]           9,216\n",
            "       BatchNorm2d-3           [-1, 32, 32, 32]              64\n",
            "          resblock-4           [-1, 32, 32, 32]               0\n",
            "            Conv2d-5           [-1, 32, 32, 32]           9,216\n",
            "       BatchNorm2d-6           [-1, 32, 32, 32]              64\n",
            "          resblock-7           [-1, 32, 32, 32]               0\n",
            "            Conv2d-8           [-1, 32, 32, 32]           9,216\n",
            "       BatchNorm2d-9           [-1, 32, 32, 32]              64\n",
            "         resblock-10           [-1, 32, 32, 32]               0\n",
            "           Conv2d-11           [-1, 32, 32, 32]           9,216\n",
            "      BatchNorm2d-12           [-1, 32, 32, 32]              64\n",
            "         resblock-13           [-1, 32, 32, 32]               0\n",
            "           Conv2d-14           [-1, 32, 32, 32]           9,216\n",
            "      BatchNorm2d-15           [-1, 32, 32, 32]              64\n",
            "         resblock-16           [-1, 32, 32, 32]               0\n",
            "           Conv2d-17           [-1, 32, 32, 32]           9,216\n",
            "      BatchNorm2d-18           [-1, 32, 32, 32]              64\n",
            "         resblock-19           [-1, 32, 32, 32]               0\n",
            "           Conv2d-20           [-1, 32, 32, 32]           9,216\n",
            "      BatchNorm2d-21           [-1, 32, 32, 32]              64\n",
            "         resblock-22           [-1, 32, 32, 32]               0\n",
            "           Conv2d-23           [-1, 32, 32, 32]           9,216\n",
            "      BatchNorm2d-24           [-1, 32, 32, 32]              64\n",
            "         resblock-25           [-1, 32, 32, 32]               0\n",
            "           Conv2d-26           [-1, 32, 32, 32]           9,216\n",
            "      BatchNorm2d-27           [-1, 32, 32, 32]              64\n",
            "         resblock-28           [-1, 32, 32, 32]               0\n",
            "           Conv2d-29           [-1, 32, 32, 32]           9,216\n",
            "      BatchNorm2d-30           [-1, 32, 32, 32]              64\n",
            "         resblock-31           [-1, 32, 32, 32]               0\n",
            "           Conv2d-32           [-1, 64, 16, 16]          18,496\n",
            "           Conv2d-33           [-1, 64, 16, 16]          36,864\n",
            "      BatchNorm2d-34           [-1, 64, 16, 16]             128\n",
            "         resblock-35           [-1, 64, 16, 16]               0\n",
            "           Conv2d-36           [-1, 64, 16, 16]          36,864\n",
            "      BatchNorm2d-37           [-1, 64, 16, 16]             128\n",
            "         resblock-38           [-1, 64, 16, 16]               0\n",
            "           Conv2d-39           [-1, 64, 16, 16]          36,864\n",
            "      BatchNorm2d-40           [-1, 64, 16, 16]             128\n",
            "         resblock-41           [-1, 64, 16, 16]               0\n",
            "           Conv2d-42           [-1, 64, 16, 16]          36,864\n",
            "      BatchNorm2d-43           [-1, 64, 16, 16]             128\n",
            "         resblock-44           [-1, 64, 16, 16]               0\n",
            "           Conv2d-45           [-1, 64, 16, 16]          36,864\n",
            "      BatchNorm2d-46           [-1, 64, 16, 16]             128\n",
            "         resblock-47           [-1, 64, 16, 16]               0\n",
            "           Conv2d-48           [-1, 64, 16, 16]          36,864\n",
            "      BatchNorm2d-49           [-1, 64, 16, 16]             128\n",
            "         resblock-50           [-1, 64, 16, 16]               0\n",
            "           Conv2d-51           [-1, 64, 16, 16]          36,864\n",
            "      BatchNorm2d-52           [-1, 64, 16, 16]             128\n",
            "         resblock-53           [-1, 64, 16, 16]               0\n",
            "           Conv2d-54           [-1, 64, 16, 16]          36,864\n",
            "      BatchNorm2d-55           [-1, 64, 16, 16]             128\n",
            "         resblock-56           [-1, 64, 16, 16]               0\n",
            "           Conv2d-57           [-1, 64, 16, 16]          36,864\n",
            "      BatchNorm2d-58           [-1, 64, 16, 16]             128\n",
            "         resblock-59           [-1, 64, 16, 16]               0\n",
            "           Conv2d-60           [-1, 64, 16, 16]          36,864\n",
            "      BatchNorm2d-61           [-1, 64, 16, 16]             128\n",
            "         resblock-62           [-1, 64, 16, 16]               0\n",
            "           Conv2d-63            [-1, 128, 8, 8]          73,856\n",
            "           Conv2d-64            [-1, 128, 8, 8]         147,456\n",
            "      BatchNorm2d-65            [-1, 128, 8, 8]             256\n",
            "         resblock-66            [-1, 128, 8, 8]               0\n",
            "           Conv2d-67            [-1, 128, 8, 8]         147,456\n",
            "      BatchNorm2d-68            [-1, 128, 8, 8]             256\n",
            "         resblock-69            [-1, 128, 8, 8]               0\n",
            "           Conv2d-70            [-1, 128, 8, 8]         147,456\n",
            "      BatchNorm2d-71            [-1, 128, 8, 8]             256\n",
            "         resblock-72            [-1, 128, 8, 8]               0\n",
            "           Conv2d-73            [-1, 128, 8, 8]         147,456\n",
            "      BatchNorm2d-74            [-1, 128, 8, 8]             256\n",
            "         resblock-75            [-1, 128, 8, 8]               0\n",
            "           Conv2d-76            [-1, 128, 8, 8]         147,456\n",
            "      BatchNorm2d-77            [-1, 128, 8, 8]             256\n",
            "         resblock-78            [-1, 128, 8, 8]               0\n",
            "           Conv2d-79            [-1, 128, 8, 8]         147,456\n",
            "      BatchNorm2d-80            [-1, 128, 8, 8]             256\n",
            "         resblock-81            [-1, 128, 8, 8]               0\n",
            "           Conv2d-82            [-1, 128, 8, 8]         147,456\n",
            "      BatchNorm2d-83            [-1, 128, 8, 8]             256\n",
            "         resblock-84            [-1, 128, 8, 8]               0\n",
            "           Conv2d-85            [-1, 128, 8, 8]         147,456\n",
            "      BatchNorm2d-86            [-1, 128, 8, 8]             256\n",
            "         resblock-87            [-1, 128, 8, 8]               0\n",
            "           Conv2d-88            [-1, 128, 8, 8]         147,456\n",
            "      BatchNorm2d-89            [-1, 128, 8, 8]             256\n",
            "         resblock-90            [-1, 128, 8, 8]               0\n",
            "           Conv2d-91            [-1, 128, 8, 8]         147,456\n",
            "      BatchNorm2d-92            [-1, 128, 8, 8]             256\n",
            "         resblock-93            [-1, 128, 8, 8]               0\n",
            "           Linear-94                   [-1, 32]         262,176\n",
            "           Linear-95                   [-1, 16]             528\n",
            "           Linear-96                   [-1, 10]             170\n",
            "================================================================\n",
            "Total params: 2,295,962\n",
            "Trainable params: 2,295,962\n",
            "Non-trainable params: 0\n",
            "----------------------------------------------------------------\n",
            "Input size (MB): 0.01\n",
            "Forward/backward pass size (MB): 13.56\n",
            "Params size (MB): 8.76\n",
            "Estimated Total Size (MB): 22.33\n",
            "----------------------------------------------------------------\n"
          ],
          "name": "stdout"
        },
        {
          "output_type": "stream",
          "text": [
            "/usr/local/lib/python3.7/dist-packages/torch/nn/functional.py:718: UserWarning: Named tensors and all their associated APIs are an experimental feature and subject to change. Please do not use them for anything important until they are released as stable. (Triggered internally at  /pytorch/c10/core/TensorImpl.h:1156.)\n",
            "  return torch.max_pool2d(input, kernel_size, stride, padding, dilation, ceil_mode)\n"
          ],
          "name": "stderr"
        }
      ]
    },
    {
      "cell_type": "code",
      "metadata": {
        "colab": {
          "base_uri": "https://localhost:8080/"
        },
        "id": "Am2asDUiF9Ng",
        "outputId": "e756f03d-e399-47ca-a21a-94e64751880a"
      },
      "source": [
        "training_loop(  \n",
        "    n_epochs = 100,\n",
        "    optimizer = optimizer,\n",
        "    model = model,\n",
        "    loss_fn = loss_fn,\n",
        "    train_loader = train_loader, \n",
        "    schedular = schedular\n",
        ")"
      ],
      "execution_count": 11,
      "outputs": [
        {
          "output_type": "stream",
          "text": [
            "2021-08-01 18:08:05.286146 Epoch 1, Training loss 1.8512785703020023\n",
            "2021-08-01 18:08:59.406138 Epoch 2, Training loss 1.3609966569391967\n",
            "2021-08-01 18:09:53.595807 Epoch 3, Training loss 1.1326002294145276\n",
            "2021-08-01 18:10:48.778205 Epoch 4, Training loss 1.0084592962204038\n",
            "2021-08-01 18:11:42.893644 Epoch 5, Training loss 0.9158232118315099\n",
            "2021-08-01 18:12:36.629441 Epoch 6, Training loss 0.8398586007792627\n",
            "2021-08-01 18:13:30.930587 Epoch 7, Training loss 0.7930407429214024\n",
            "2021-08-01 18:14:25.813958 Epoch 8, Training loss 0.7468117957987139\n",
            "2021-08-01 18:15:20.242801 Epoch 9, Training loss 0.7126480972065645\n",
            "2021-08-01 18:16:14.565080 Epoch 10, Training loss 0.6732981191266834\n",
            "2021-08-01 18:17:09.083309 Epoch 11, Training loss 0.6482543961699966\n",
            "2021-08-01 18:18:03.455659 Epoch 12, Training loss 0.6245960493755462\n",
            "2021-08-01 18:18:57.937951 Epoch 13, Training loss 0.6039635857657704\n",
            "2021-08-01 18:19:52.303475 Epoch 14, Training loss 0.5864547297472844\n",
            "2021-08-01 18:20:46.671516 Epoch 15, Training loss 0.5670838385744168\n",
            "2021-08-01 18:21:41.599537 Epoch 16, Training loss 0.5542533029909329\n",
            "2021-08-01 18:22:35.966638 Epoch 17, Training loss 0.5401105490105841\n",
            "2021-08-01 18:23:30.461703 Epoch 18, Training loss 0.5277004723277543\n",
            "2021-08-01 18:24:25.011841 Epoch 19, Training loss 0.5191988200520921\n",
            "2021-08-01 18:25:19.453301 Epoch 20, Training loss 0.504599454210085\n",
            "2021-08-01 18:26:13.605348 Epoch 21, Training loss 0.49777480544489056\n",
            "2021-08-01 18:27:07.390738 Epoch 22, Training loss 0.48610112490251545\n",
            "2021-08-01 18:28:01.754432 Epoch 23, Training loss 0.48209432083779896\n",
            "2021-08-01 18:28:55.575904 Epoch 24, Training loss 0.4683596118712974\n",
            "2021-08-01 18:29:49.209265 Epoch 25, Training loss 0.46091366984197857\n",
            "2021-08-01 18:30:42.949853 Epoch 26, Training loss 0.4543290048875772\n",
            "2021-08-01 18:31:37.077945 Epoch 27, Training loss 0.44955143843160567\n",
            "2021-08-01 18:32:31.135574 Epoch 28, Training loss 0.44399246474361176\n",
            "2021-08-01 18:33:25.028706 Epoch 29, Training loss 0.43967922252919667\n",
            "2021-08-01 18:34:19.430219 Epoch 30, Training loss 0.4354276402336557\n",
            "2021-08-01 18:35:13.329663 Epoch 31, Training loss 0.429002533064169\n",
            "2021-08-01 18:36:07.282669 Epoch 32, Training loss 0.4224812751802642\n",
            "2021-08-01 18:37:01.076099 Epoch 33, Training loss 0.4229420758497989\n",
            "2021-08-01 18:37:55.282545 Epoch 34, Training loss 0.4140504704564429\n",
            "2021-08-01 18:38:49.051833 Epoch 35, Training loss 0.4109152284310297\n",
            "2021-08-01 18:39:42.533684 Epoch 36, Training loss 0.4059139401139811\n",
            "2021-08-01 18:40:36.127773 Epoch 37, Training loss 0.40298586921847385\n",
            "2021-08-01 18:41:29.986168 Epoch 38, Training loss 0.39956306018259213\n",
            "2021-08-01 18:42:23.762860 Epoch 39, Training loss 0.39859362891720385\n",
            "2021-08-01 18:43:17.516529 Epoch 40, Training loss 0.39677536922037754\n",
            "2021-08-01 18:44:11.811166 Epoch 41, Training loss 0.3898768787227018\n",
            "2021-08-01 18:45:06.380951 Epoch 42, Training loss 0.3911079049224744\n",
            "2021-08-01 18:46:00.510150 Epoch 43, Training loss 0.3858319061148502\n",
            "2021-08-01 18:46:54.449419 Epoch 44, Training loss 0.38423580194220824\n",
            "2021-08-01 18:47:48.461442 Epoch 45, Training loss 0.38377544733569446\n",
            "2021-08-01 18:48:43.140575 Epoch 46, Training loss 0.3822475363645712\n",
            "2021-08-01 18:49:37.136914 Epoch 47, Training loss 0.3754011876023639\n",
            "2021-08-01 18:50:31.341462 Epoch 48, Training loss 0.3774678380326237\n",
            "2021-08-01 18:51:25.612060 Epoch 49, Training loss 0.3742037782983859\n",
            "2021-08-01 18:52:19.875028 Epoch 50, Training loss 0.3734331911101061\n",
            "2021-08-01 18:53:13.997854 Epoch 51, Training loss 0.2617629379167429\n",
            "2021-08-01 18:54:08.115711 Epoch 52, Training loss 0.23162831903418615\n",
            "2021-08-01 18:55:02.689120 Epoch 53, Training loss 0.21643454316631913\n",
            "2021-08-01 18:55:56.829054 Epoch 54, Training loss 0.21032234240809214\n",
            "2021-08-01 18:56:50.932837 Epoch 55, Training loss 0.20234445774036905\n",
            "2021-08-01 18:57:44.905633 Epoch 56, Training loss 0.19671361765269277\n",
            "2021-08-01 18:58:39.217679 Epoch 57, Training loss 0.19450996639659565\n",
            "2021-08-01 18:59:33.737400 Epoch 58, Training loss 0.1866307837407455\n",
            "2021-08-01 19:00:27.618336 Epoch 59, Training loss 0.18443501453913386\n",
            "2021-08-01 19:01:21.830763 Epoch 60, Training loss 0.17957252878314622\n",
            "2021-08-01 19:02:15.985547 Epoch 61, Training loss 0.1797498775565106\n",
            "2021-08-01 19:03:10.019906 Epoch 62, Training loss 0.17369824594548902\n",
            "2021-08-01 19:04:03.863261 Epoch 63, Training loss 0.17453658050092893\n",
            "2021-08-01 19:04:57.687510 Epoch 64, Training loss 0.17019130701623153\n",
            "2021-08-01 19:05:52.235352 Epoch 65, Training loss 0.1673456401518925\n",
            "2021-08-01 19:06:45.989095 Epoch 66, Training loss 0.16533829783901688\n",
            "2021-08-01 19:07:39.573050 Epoch 67, Training loss 0.1656419714517377\n",
            "2021-08-01 19:08:33.516411 Epoch 68, Training loss 0.16085752749058138\n",
            "2021-08-01 19:09:27.567011 Epoch 69, Training loss 0.16157794865253178\n",
            "2021-08-01 19:10:21.630935 Epoch 70, Training loss 0.15960216348814538\n",
            "2021-08-01 19:11:15.707080 Epoch 71, Training loss 0.1577653093525516\n",
            "2021-08-01 19:12:09.707967 Epoch 72, Training loss 0.15412113415863354\n",
            "2021-08-01 19:13:03.669015 Epoch 73, Training loss 0.15487388267284236\n",
            "2021-08-01 19:13:57.337394 Epoch 74, Training loss 0.15270886652152557\n",
            "2021-08-01 19:14:50.908754 Epoch 75, Training loss 0.15040987508033243\n",
            "2021-08-01 19:15:44.797376 Epoch 76, Training loss 0.12935456222928393\n",
            "2021-08-01 19:16:39.004789 Epoch 77, Training loss 0.12644227148245668\n",
            "2021-08-01 19:17:32.508782 Epoch 78, Training loss 0.1213598455542989\n",
            "2021-08-01 19:18:26.298112 Epoch 79, Training loss 0.11981268883789972\n",
            "2021-08-01 19:19:20.185702 Epoch 80, Training loss 0.11833532244834068\n",
            "2021-08-01 19:20:13.991101 Epoch 81, Training loss 0.11843137749854256\n",
            "2021-08-01 19:21:07.538726 Epoch 82, Training loss 0.1178031578359892\n",
            "2021-08-01 19:22:01.675506 Epoch 83, Training loss 0.11594509119953951\n",
            "2021-08-01 19:22:55.476022 Epoch 84, Training loss 0.11810030155788984\n",
            "2021-08-01 19:23:48.998883 Epoch 85, Training loss 0.11620445776244868\n",
            "2021-08-01 19:24:42.450168 Epoch 86, Training loss 0.1154562750250063\n",
            "2021-08-01 19:25:36.298551 Epoch 87, Training loss 0.11467823778729305\n",
            "2021-08-01 19:26:30.078098 Epoch 88, Training loss 0.11511616085839393\n",
            "2021-08-01 19:27:23.918515 Epoch 89, Training loss 0.1108612534625794\n",
            "2021-08-01 19:28:17.851704 Epoch 90, Training loss 0.11398874546217796\n",
            "2021-08-01 19:29:11.554210 Epoch 91, Training loss 0.11398951474891598\n",
            "2021-08-01 19:30:05.363828 Epoch 92, Training loss 0.11273748948789009\n",
            "2021-08-01 19:30:58.835220 Epoch 93, Training loss 0.10927328426876794\n",
            "2021-08-01 19:31:52.328935 Epoch 94, Training loss 0.10985261068472167\n",
            "2021-08-01 19:32:46.701200 Epoch 95, Training loss 0.10994532517374248\n",
            "2021-08-01 19:33:40.068769 Epoch 96, Training loss 0.10784080552408838\n",
            "2021-08-01 19:34:33.503024 Epoch 97, Training loss 0.10871729368577375\n",
            "2021-08-01 19:35:27.820077 Epoch 98, Training loss 0.10946310489960111\n",
            "2021-08-01 19:36:22.345344 Epoch 99, Training loss 0.10784556045104056\n",
            "2021-08-01 19:37:16.382934 Epoch 100, Training loss 0.10954652314105302\n"
          ],
          "name": "stdout"
        }
      ]
    },
    {
      "cell_type": "code",
      "metadata": {
        "id": "pechtawvXO8r",
        "colab": {
          "base_uri": "https://localhost:8080/"
        },
        "outputId": "885abdcc-a05b-4935-bfba-81db86c57c9a"
      },
      "source": [
        "train_loader = torch.utils.data.DataLoader(cifar10, batch_size=64,\n",
        "                                           shuffle=False)\n",
        "val_loader = torch.utils.data.DataLoader(cifar10_val, batch_size=64,\n",
        "                                         shuffle=False)\n",
        "\n",
        "def validate(model, train_loader, val_loader):\n",
        "    for name, loader in [(\"train\", train_loader), (\"val\", val_loader)]:\n",
        "        correct = 0\n",
        "        total = 0\n",
        "\n",
        "        with torch.no_grad():  # <1>\n",
        "            for imgs, labels in loader:\n",
        "                imgs = imgs.to(device=device)\n",
        "                labels = labels.to(device=device)\n",
        "                outputs = model(imgs)\n",
        "                _, predicted = torch.max(outputs, dim=1) # <2>\n",
        "                total += labels.shape[0]  # <3>\n",
        "                correct += int((predicted == labels).sum())  # <4>\n",
        "\n",
        "        print(\"Accuracy {}: {:.5f}\".format(name , correct / total))\n",
        "\n",
        "validate(model, train_loader, val_loader)"
      ],
      "execution_count": 12,
      "outputs": [
        {
          "output_type": "stream",
          "text": [
            "Accuracy train: 0.96502\n",
            "Accuracy val: 0.90160\n"
          ],
          "name": "stdout"
        }
      ]
    },
    {
      "cell_type": "code",
      "metadata": {
        "id": "ybQwKeJQ-yDP"
      },
      "source": [
        "optimizer = optim.SGD(model.parameters(), lr=0.0001, weight_decay=0.01)"
      ],
      "execution_count": 13,
      "outputs": []
    },
    {
      "cell_type": "code",
      "metadata": {
        "id": "IHsAGVWs-_Cv",
        "colab": {
          "base_uri": "https://localhost:8080/"
        },
        "outputId": "96b72d3c-1c8d-4e2a-858d-01f707a24460"
      },
      "source": [
        "training_loop(  \n",
        "    n_epochs = 10,\n",
        "    optimizer = optimizer,\n",
        "    model = model,\n",
        "    loss_fn = loss_fn,\n",
        "    train_loader = train_loader, \n",
        "    schedular = schedular\n",
        ")"
      ],
      "execution_count": 14,
      "outputs": [
        {
          "output_type": "stream",
          "text": [
            "2021-08-01 19:38:42.768389 Epoch 1, Training loss 0.10627329102038499\n",
            "2021-08-01 19:39:36.524698 Epoch 2, Training loss 0.10763003118336201\n",
            "2021-08-01 19:40:30.553736 Epoch 3, Training loss 0.10603393785312505\n",
            "2021-08-01 19:41:24.669551 Epoch 4, Training loss 0.10708468248996207\n",
            "2021-08-01 19:42:18.637775 Epoch 5, Training loss 0.1031107565964503\n",
            "2021-08-01 19:43:12.655476 Epoch 6, Training loss 0.10261108724833906\n",
            "2021-08-01 19:44:07.072960 Epoch 7, Training loss 0.10253930071611768\n",
            "2021-08-01 19:45:01.214629 Epoch 8, Training loss 0.10153764712355097\n",
            "2021-08-01 19:45:55.015156 Epoch 9, Training loss 0.10367591272744224\n",
            "2021-08-01 19:46:48.864207 Epoch 10, Training loss 0.101511084739014\n"
          ],
          "name": "stdout"
        }
      ]
    },
    {
      "cell_type": "code",
      "metadata": {
        "id": "8W_ln0JB_FT4",
        "colab": {
          "base_uri": "https://localhost:8080/"
        },
        "outputId": "068b2625-28fc-47b7-fb98-c1155cb1832f"
      },
      "source": [
        "validate(model, train_loader, val_loader)"
      ],
      "execution_count": 15,
      "outputs": [
        {
          "output_type": "stream",
          "text": [
            "Accuracy train: 0.96718\n",
            "Accuracy val: 0.90100\n"
          ],
          "name": "stdout"
        }
      ]
    },
    {
      "cell_type": "markdown",
      "metadata": {
        "id": "v1Kbir0UGwu5"
      },
      "source": [
        ""
      ]
    }
  ]
}